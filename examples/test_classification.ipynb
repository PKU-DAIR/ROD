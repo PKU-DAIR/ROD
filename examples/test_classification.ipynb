{
 "cells": [
  {
   "cell_type": "code",
   "execution_count": 1,
   "metadata": {},
   "outputs": [],
   "source": [
    "from __future__ import division\n",
    "from __future__ import print_function\n",
    "import os, sys\n",
    "import warnings\n",
    "warnings.simplefilter(action='ignore', category=FutureWarning)\n",
    "warnings.simplefilter(action='ignore', category=RuntimeWarning)\n",
    "warnings.simplefilter(action='ignore', category=UserWarning)\n",
    "\n",
    "import argparse\n",
    "import random\n",
    "import numpy as np\n",
    "import scipy.sparse as sp\n",
    "import torch\n",
    "\n",
    "SEED = 42\n",
    "np.random.seed(SEED)\n",
    "torch.manual_seed(SEED)\n",
    "torch.cuda.manual_seed(SEED)\n",
    "\n",
    "from torch import optim\n",
    "import torch.nn.functional as F\n",
    "from model import ROD_cla\n",
    "from optimizer import loss_function\n",
    "from utils import *\n",
    "from sklearn.cluster import SpectralClustering, KMeans\n",
    "from clustering_metric import clustering_metrics\n",
    "from tqdm import tqdm\n",
    "import time"
   ]
  },
  {
   "cell_type": "code",
   "execution_count": 2,
   "metadata": {},
   "outputs": [
    {
     "name": "stdout",
     "output_type": "stream",
     "text": [
      "Using cora dataset\n"
     ]
    }
   ],
   "source": [
    "parser = argparse.ArgumentParser()\n",
    "parser.add_argument('--epochs', type=int, default=200)\n",
    "parser.add_argument('--hidden', type=int, default=128)\n",
    "parser.add_argument('--lr', type=float, default=0.02)\n",
    "parser.add_argument('--weight_decay', type=float, default=5e-4)\n",
    "parser.add_argument('--dropout', type=float, default=0.8)\n",
    "parser.add_argument('--batch_size', type=int, default=1000)\n",
    "parser.add_argument('--dataset', type=str, default='cora')\n",
    "parser.add_argument('--num_hops', type=int, default=9)\n",
    "parser.add_argument('--device', type=int, default=0)\n",
    "args = parser.parse_args(args=[])\n",
    "print(\"Using {} dataset\".format(args.dataset))"
   ]
  },
  {
   "cell_type": "markdown",
   "metadata": {},
   "source": [
    "### 1. Data Fetching"
   ]
  },
  {
   "cell_type": "code",
   "execution_count": null,
   "metadata": {
    "scrolled": true
   },
   "outputs": [],
   "source": [
    "device = torch.device(f\"cuda:{args.device}\" if torch.cuda.is_available() else \"cpu\")\n",
    "adj, features, labels, idx_train, idx_val, idx_test = load_data(args.dataset)\n",
    "features = F.normalize(features, 1)\n",
    "labels = torch.LongTensor(labels)\n",
    "\n",
    "adj_1st = (adj + sp.eye(adj.shape[0])).toarray()\n",
    "adj_label = torch.FloatTensor(adj_1st)\n",
    "neg_num = pos_num = adj_label.sum().long()\n",
    "\n",
    "adj = aug_normalized_adjacency(adj)\n",
    "adj = sparse_mx_to_torch_sparse_tensor(adj).float()\n",
    "\n",
    "n_nodes = features.shape[0]\n",
    "input_feature = [features]\n",
    "for i in range(args.num_hops):\n",
    "    propagated_fea = torch.spmm(adj,input_feature[-1])\n",
    "    input_feature.append(propagated_fea)\n",
    "feature_list = [fea.to(device) for fea in input_feature]\n",
    "    \n",
    "labels = labels.to(device)\n",
    "adj = adj.to(device)"
   ]
  },
  {
   "cell_type": "markdown",
   "metadata": {},
   "source": [
    "### 2. Data Preprocessing"
   ]
  },
  {
   "cell_type": "code",
   "execution_count": 11,
   "metadata": {},
   "outputs": [],
   "source": [
    "sm_sim_mx_list = []\n",
    "for i in range(args.num_hops+1):\n",
    "    cur_feat = F.normalize(feature_list[i].cpu().data)\n",
    "    sm_sim_mx_list.append(torch.mm(cur_feat, cur_feat.t()).reshape([-1,]))\n",
    "\n",
    "pos_inds_list = []\n",
    "neg_inds_list = []\n",
    "for i in range(args.num_hops+1):\n",
    "    pos_inds_list.append(np.argpartition(-sm_sim_mx_list[i], pos_num)[:pos_num])\n",
    "    neg_inds_list.append(np.argpartition(sm_sim_mx_list[i], pos_num*100)[:pos_num*100])\n",
    "\n",
    "length = len(pos_inds_list[0])\n",
    "length_neg = len(neg_inds_list[0])\n",
    "\n",
    "pos_inds_cuda_list = [torch.LongTensor(pos_inds).to(device) for pos_inds in pos_inds_list]\n",
    "\n",
    "batch_size = args.batch_size"
   ]
  },
  {
   "cell_type": "markdown",
   "metadata": {},
   "source": [
    "### 3. Node Classification"
   ]
  },
  {
   "cell_type": "code",
   "execution_count": 14,
   "metadata": {
    "scrolled": true
   },
   "outputs": [
    {
     "name": "stderr",
     "output_type": "stream",
     "text": [
      "  0%|          | 1/200 [00:00<01:09,  2.86it/s]"
     ]
    },
    {
     "name": "stdout",
     "output_type": "stream",
     "text": [
      "Epoch: 0001 loss_train: 19.5118 acc_train: 0.1286 acc_val: 0.0600 acc_test: 0.0650 time: 0.3477s\n"
     ]
    },
    {
     "name": "stderr",
     "output_type": "stream",
     "text": [
      "\r",
      "  1%|          | 2/200 [00:00<01:05,  3.04it/s]"
     ]
    },
    {
     "name": "stdout",
     "output_type": "stream",
     "text": [
      "Epoch: 0002 loss_train: 19.4878 acc_train: 0.1929 acc_val: 0.2120 acc_test: 0.1930 time: 0.2807s\n"
     ]
    },
    {
     "name": "stderr",
     "output_type": "stream",
     "text": [
      "\r",
      "  2%|▏         | 3/200 [00:00<00:59,  3.32it/s]"
     ]
    },
    {
     "name": "stdout",
     "output_type": "stream",
     "text": [
      "Epoch: 0003 loss_train: 19.4520 acc_train: 0.2071 acc_val: 0.3660 acc_test: 0.3430 time: 0.2331s\n"
     ]
    },
    {
     "name": "stderr",
     "output_type": "stream",
     "text": [
      "\r",
      "  2%|▏         | 4/200 [00:01<00:54,  3.58it/s]"
     ]
    },
    {
     "name": "stdout",
     "output_type": "stream",
     "text": [
      "Epoch: 0004 loss_train: 19.3695 acc_train: 0.2500 acc_val: 0.3080 acc_test: 0.3050 time: 0.2274s\n"
     ]
    },
    {
     "name": "stderr",
     "output_type": "stream",
     "text": [
      "\r",
      "  2%|▎         | 5/200 [00:01<00:51,  3.75it/s]"
     ]
    },
    {
     "name": "stdout",
     "output_type": "stream",
     "text": [
      "Epoch: 0005 loss_train: 19.3143 acc_train: 0.1929 acc_val: 0.4380 acc_test: 0.4280 time: 0.2340s\n"
     ]
    },
    {
     "name": "stderr",
     "output_type": "stream",
     "text": [
      "\r",
      "  3%|▎         | 6/200 [00:01<00:49,  3.92it/s]"
     ]
    },
    {
     "name": "stdout",
     "output_type": "stream",
     "text": [
      "Epoch: 0006 loss_train: 19.2568 acc_train: 0.2357 acc_val: 0.7480 acc_test: 0.7590 time: 0.2260s\n"
     ]
    },
    {
     "name": "stderr",
     "output_type": "stream",
     "text": [
      "\r",
      "  4%|▎         | 7/200 [00:01<00:47,  4.06it/s]"
     ]
    },
    {
     "name": "stdout",
     "output_type": "stream",
     "text": [
      "Epoch: 0007 loss_train: 19.0642 acc_train: 0.3143 acc_val: 0.7980 acc_test: 0.7930 time: 0.2246s\n"
     ]
    },
    {
     "name": "stderr",
     "output_type": "stream",
     "text": [
      "\r",
      "  4%|▍         | 8/200 [00:02<00:46,  4.15it/s]"
     ]
    },
    {
     "name": "stdout",
     "output_type": "stream",
     "text": [
      "Epoch: 0008 loss_train: 18.9827 acc_train: 0.3286 acc_val: 0.7920 acc_test: 0.7840 time: 0.2268s\n"
     ]
    },
    {
     "name": "stderr",
     "output_type": "stream",
     "text": [
      "\r",
      "  4%|▍         | 9/200 [00:02<00:45,  4.23it/s]"
     ]
    },
    {
     "name": "stdout",
     "output_type": "stream",
     "text": [
      "Epoch: 0009 loss_train: 18.5593 acc_train: 0.4500 acc_val: 0.7860 acc_test: 0.7890 time: 0.2243s\n"
     ]
    },
    {
     "name": "stderr",
     "output_type": "stream",
     "text": [
      "\r",
      "  5%|▌         | 10/200 [00:02<00:44,  4.27it/s]"
     ]
    },
    {
     "name": "stdout",
     "output_type": "stream",
     "text": [
      "Epoch: 0010 loss_train: 18.3746 acc_train: 0.4071 acc_val: 0.7980 acc_test: 0.7990 time: 0.2279s\n"
     ]
    },
    {
     "name": "stderr",
     "output_type": "stream",
     "text": [
      "\r",
      "  6%|▌         | 11/200 [00:02<00:43,  4.31it/s]"
     ]
    },
    {
     "name": "stdout",
     "output_type": "stream",
     "text": [
      "Epoch: 0011 loss_train: 18.1775 acc_train: 0.4786 acc_val: 0.7840 acc_test: 0.7750 time: 0.2248s\n"
     ]
    },
    {
     "name": "stderr",
     "output_type": "stream",
     "text": [
      "\r",
      "  6%|▌         | 12/200 [00:02<00:43,  4.32it/s]"
     ]
    },
    {
     "name": "stdout",
     "output_type": "stream",
     "text": [
      "Epoch: 0012 loss_train: 17.8015 acc_train: 0.4929 acc_val: 0.7720 acc_test: 0.7620 time: 0.2299s\n"
     ]
    },
    {
     "name": "stderr",
     "output_type": "stream",
     "text": [
      "\r",
      "  6%|▋         | 13/200 [00:03<00:43,  4.34it/s]"
     ]
    },
    {
     "name": "stdout",
     "output_type": "stream",
     "text": [
      "Epoch: 0013 loss_train: 17.6853 acc_train: 0.4357 acc_val: 0.7400 acc_test: 0.7470 time: 0.2266s\n"
     ]
    },
    {
     "name": "stderr",
     "output_type": "stream",
     "text": [
      "\r",
      "  7%|▋         | 14/200 [00:03<00:42,  4.36it/s]"
     ]
    },
    {
     "name": "stdout",
     "output_type": "stream",
     "text": [
      "Epoch: 0014 loss_train: 17.1839 acc_train: 0.5500 acc_val: 0.7340 acc_test: 0.7480 time: 0.2258s\n"
     ]
    },
    {
     "name": "stderr",
     "output_type": "stream",
     "text": [
      "\r",
      "  8%|▊         | 15/200 [00:03<00:42,  4.37it/s]"
     ]
    },
    {
     "name": "stdout",
     "output_type": "stream",
     "text": [
      "Epoch: 0015 loss_train: 16.8115 acc_train: 0.5357 acc_val: 0.7500 acc_test: 0.7550 time: 0.2259s\n"
     ]
    },
    {
     "name": "stderr",
     "output_type": "stream",
     "text": [
      "\r",
      "  8%|▊         | 16/200 [00:03<00:41,  4.39it/s]"
     ]
    },
    {
     "name": "stdout",
     "output_type": "stream",
     "text": [
      "Epoch: 0016 loss_train: 16.6580 acc_train: 0.5214 acc_val: 0.7600 acc_test: 0.7740 time: 0.2237s\n"
     ]
    },
    {
     "name": "stderr",
     "output_type": "stream",
     "text": [
      "\r",
      "  8%|▊         | 17/200 [00:04<00:41,  4.41it/s]"
     ]
    },
    {
     "name": "stdout",
     "output_type": "stream",
     "text": [
      "Epoch: 0017 loss_train: 16.0424 acc_train: 0.5500 acc_val: 0.7840 acc_test: 0.7940 time: 0.2231s\n"
     ]
    },
    {
     "name": "stderr",
     "output_type": "stream",
     "text": [
      "\r",
      "  9%|▉         | 18/200 [00:04<00:41,  4.38it/s]"
     ]
    },
    {
     "name": "stdout",
     "output_type": "stream",
     "text": [
      "Epoch: 0018 loss_train: 15.4988 acc_train: 0.6071 acc_val: 0.7920 acc_test: 0.7930 time: 0.2307s\n"
     ]
    },
    {
     "name": "stderr",
     "output_type": "stream",
     "text": [
      "\r",
      " 10%|▉         | 19/200 [00:04<00:41,  4.40it/s]"
     ]
    },
    {
     "name": "stdout",
     "output_type": "stream",
     "text": [
      "Epoch: 0019 loss_train: 15.0666 acc_train: 0.5786 acc_val: 0.7980 acc_test: 0.8000 time: 0.2233s\n"
     ]
    },
    {
     "name": "stderr",
     "output_type": "stream",
     "text": [
      "\r",
      " 10%|█         | 20/200 [00:04<00:40,  4.40it/s]"
     ]
    },
    {
     "name": "stdout",
     "output_type": "stream",
     "text": [
      "Epoch: 0020 loss_train: 14.4332 acc_train: 0.6214 acc_val: 0.8040 acc_test: 0.8110 time: 0.2251s\n"
     ]
    },
    {
     "name": "stderr",
     "output_type": "stream",
     "text": [
      "\r",
      " 10%|█         | 21/200 [00:04<00:40,  4.42it/s]"
     ]
    },
    {
     "name": "stdout",
     "output_type": "stream",
     "text": [
      "Epoch: 0021 loss_train: 14.5569 acc_train: 0.5857 acc_val: 0.8080 acc_test: 0.8140 time: 0.2234s\n"
     ]
    },
    {
     "name": "stderr",
     "output_type": "stream",
     "text": [
      "\r",
      " 11%|█         | 22/200 [00:05<00:40,  4.43it/s]"
     ]
    },
    {
     "name": "stdout",
     "output_type": "stream",
     "text": [
      "Epoch: 0022 loss_train: 13.5781 acc_train: 0.6857 acc_val: 0.8060 acc_test: 0.8180 time: 0.2231s\n"
     ]
    },
    {
     "name": "stderr",
     "output_type": "stream",
     "text": [
      "\r",
      " 12%|█▏        | 23/200 [00:05<00:40,  4.40it/s]"
     ]
    },
    {
     "name": "stdout",
     "output_type": "stream",
     "text": [
      "Epoch: 0023 loss_train: 13.4149 acc_train: 0.7000 acc_val: 0.8060 acc_test: 0.8230 time: 0.2282s\n"
     ]
    },
    {
     "name": "stderr",
     "output_type": "stream",
     "text": [
      "\r",
      " 12%|█▏        | 24/200 [00:05<00:39,  4.40it/s]"
     ]
    },
    {
     "name": "stdout",
     "output_type": "stream",
     "text": [
      "Epoch: 0024 loss_train: 11.8913 acc_train: 0.7429 acc_val: 0.8100 acc_test: 0.8240 time: 0.2257s\n"
     ]
    },
    {
     "name": "stderr",
     "output_type": "stream",
     "text": [
      "\r",
      " 12%|█▎        | 25/200 [00:05<00:39,  4.42it/s]"
     ]
    },
    {
     "name": "stdout",
     "output_type": "stream",
     "text": [
      "Epoch: 0025 loss_train: 12.5239 acc_train: 0.7000 acc_val: 0.8040 acc_test: 0.8230 time: 0.2236s\n"
     ]
    },
    {
     "name": "stderr",
     "output_type": "stream",
     "text": [
      "\r",
      " 13%|█▎        | 26/200 [00:06<00:39,  4.39it/s]"
     ]
    },
    {
     "name": "stdout",
     "output_type": "stream",
     "text": [
      "Epoch: 0026 loss_train: 11.0808 acc_train: 0.7357 acc_val: 0.8040 acc_test: 0.8210 time: 0.2290s\n"
     ]
    },
    {
     "name": "stderr",
     "output_type": "stream",
     "text": [
      "\r",
      " 14%|█▎        | 27/200 [00:06<00:39,  4.39it/s]"
     ]
    },
    {
     "name": "stdout",
     "output_type": "stream",
     "text": [
      "Epoch: 0027 loss_train: 10.6569 acc_train: 0.7857 acc_val: 0.8100 acc_test: 0.8190 time: 0.2269s\n"
     ]
    },
    {
     "name": "stderr",
     "output_type": "stream",
     "text": [
      "\r",
      " 14%|█▍        | 28/200 [00:06<00:39,  4.40it/s]"
     ]
    },
    {
     "name": "stdout",
     "output_type": "stream",
     "text": [
      "Epoch: 0028 loss_train: 10.6717 acc_train: 0.7357 acc_val: 0.8080 acc_test: 0.8130 time: 0.2242s\n"
     ]
    },
    {
     "name": "stderr",
     "output_type": "stream",
     "text": [
      "\r",
      " 14%|█▍        | 29/200 [00:06<00:38,  4.40it/s]"
     ]
    },
    {
     "name": "stdout",
     "output_type": "stream",
     "text": [
      "Epoch: 0029 loss_train: 9.8583 acc_train: 0.7786 acc_val: 0.8040 acc_test: 0.8100 time: 0.2262s\n"
     ]
    },
    {
     "name": "stderr",
     "output_type": "stream",
     "text": [
      "\r",
      " 15%|█▌        | 30/200 [00:07<00:38,  4.41it/s]"
     ]
    },
    {
     "name": "stdout",
     "output_type": "stream",
     "text": [
      "Epoch: 0030 loss_train: 10.1592 acc_train: 0.7929 acc_val: 0.8000 acc_test: 0.8120 time: 0.2239s\n"
     ]
    },
    {
     "name": "stderr",
     "output_type": "stream",
     "text": [
      "\r",
      " 16%|█▌        | 31/200 [00:07<00:38,  4.38it/s]"
     ]
    },
    {
     "name": "stdout",
     "output_type": "stream",
     "text": [
      "Epoch: 0031 loss_train: 8.8719 acc_train: 0.8071 acc_val: 0.7960 acc_test: 0.8080 time: 0.2313s\n"
     ]
    },
    {
     "name": "stderr",
     "output_type": "stream",
     "text": [
      "\r",
      " 16%|█▌        | 32/200 [00:07<00:38,  4.38it/s]"
     ]
    },
    {
     "name": "stdout",
     "output_type": "stream",
     "text": [
      "Epoch: 0032 loss_train: 8.7129 acc_train: 0.8071 acc_val: 0.8000 acc_test: 0.8120 time: 0.2272s\n"
     ]
    },
    {
     "name": "stderr",
     "output_type": "stream",
     "text": [
      "\r",
      " 16%|█▋        | 33/200 [00:07<00:38,  4.38it/s]"
     ]
    },
    {
     "name": "stdout",
     "output_type": "stream",
     "text": [
      "Epoch: 0033 loss_train: 8.8322 acc_train: 0.8143 acc_val: 0.7980 acc_test: 0.8170 time: 0.2272s\n"
     ]
    },
    {
     "name": "stderr",
     "output_type": "stream",
     "text": [
      "\r",
      " 17%|█▋        | 34/200 [00:07<00:37,  4.39it/s]"
     ]
    },
    {
     "name": "stdout",
     "output_type": "stream",
     "text": [
      "Epoch: 0034 loss_train: 8.1000 acc_train: 0.8357 acc_val: 0.7980 acc_test: 0.8190 time: 0.2241s\n"
     ]
    },
    {
     "name": "stderr",
     "output_type": "stream",
     "text": [
      "\r",
      " 18%|█▊        | 35/200 [00:08<00:37,  4.40it/s]"
     ]
    },
    {
     "name": "stdout",
     "output_type": "stream",
     "text": [
      "Epoch: 0035 loss_train: 8.3796 acc_train: 0.8000 acc_val: 0.8040 acc_test: 0.8260 time: 0.2245s\n"
     ]
    },
    {
     "name": "stderr",
     "output_type": "stream",
     "text": [
      "\r",
      " 18%|█▊        | 36/200 [00:08<00:37,  4.38it/s]"
     ]
    },
    {
     "name": "stdout",
     "output_type": "stream",
     "text": [
      "Epoch: 0036 loss_train: 7.8624 acc_train: 0.8000 acc_val: 0.8100 acc_test: 0.8360 time: 0.2305s\n"
     ]
    },
    {
     "name": "stderr",
     "output_type": "stream",
     "text": [
      "\r",
      " 18%|█▊        | 37/200 [00:08<00:37,  4.39it/s]"
     ]
    },
    {
     "name": "stdout",
     "output_type": "stream",
     "text": [
      "Epoch: 0037 loss_train: 7.3645 acc_train: 0.8214 acc_val: 0.8140 acc_test: 0.8430 time: 0.2244s\n"
     ]
    },
    {
     "name": "stderr",
     "output_type": "stream",
     "text": [
      "\r",
      " 19%|█▉        | 38/200 [00:08<00:36,  4.40it/s]"
     ]
    },
    {
     "name": "stdout",
     "output_type": "stream",
     "text": [
      "Epoch: 0038 loss_train: 7.4209 acc_train: 0.8429 acc_val: 0.8140 acc_test: 0.8420 time: 0.2247s\n"
     ]
    },
    {
     "name": "stderr",
     "output_type": "stream",
     "text": [
      "\r",
      " 20%|█▉        | 39/200 [00:09<00:36,  4.41it/s]"
     ]
    },
    {
     "name": "stdout",
     "output_type": "stream",
     "text": [
      "Epoch: 0039 loss_train: 6.9667 acc_train: 0.8214 acc_val: 0.8160 acc_test: 0.8420 time: 0.2242s\n"
     ]
    },
    {
     "name": "stderr",
     "output_type": "stream",
     "text": [
      "\r",
      " 20%|██        | 40/200 [00:09<00:36,  4.42it/s]"
     ]
    },
    {
     "name": "stdout",
     "output_type": "stream",
     "text": [
      "Epoch: 0040 loss_train: 7.0130 acc_train: 0.8500 acc_val: 0.8120 acc_test: 0.8420 time: 0.2244s\n"
     ]
    },
    {
     "name": "stderr",
     "output_type": "stream",
     "text": [
      "\r",
      " 20%|██        | 41/200 [00:09<00:35,  4.42it/s]"
     ]
    },
    {
     "name": "stdout",
     "output_type": "stream",
     "text": [
      "Epoch: 0041 loss_train: 6.4206 acc_train: 0.8357 acc_val: 0.8100 acc_test: 0.8390 time: 0.2238s\n"
     ]
    },
    {
     "name": "stderr",
     "output_type": "stream",
     "text": [
      "\r",
      " 21%|██        | 42/200 [00:09<00:35,  4.39it/s]"
     ]
    },
    {
     "name": "stdout",
     "output_type": "stream",
     "text": [
      "Epoch: 0042 loss_train: 5.5696 acc_train: 0.8929 acc_val: 0.8100 acc_test: 0.8350 time: 0.2296s\n"
     ]
    },
    {
     "name": "stderr",
     "output_type": "stream",
     "text": [
      "\r",
      " 22%|██▏       | 43/200 [00:09<00:35,  4.42it/s]"
     ]
    },
    {
     "name": "stdout",
     "output_type": "stream",
     "text": [
      "Epoch: 0043 loss_train: 6.2918 acc_train: 0.8786 acc_val: 0.8080 acc_test: 0.8350 time: 0.2219s\n"
     ]
    },
    {
     "name": "stderr",
     "output_type": "stream",
     "text": [
      "\r",
      " 22%|██▏       | 44/200 [00:10<00:38,  4.02it/s]"
     ]
    },
    {
     "name": "stdout",
     "output_type": "stream",
     "text": [
      "Epoch: 0044 loss_train: 6.5818 acc_train: 0.8571 acc_val: 0.8080 acc_test: 0.8330 time: 0.2996s\n"
     ]
    },
    {
     "name": "stderr",
     "output_type": "stream",
     "text": [
      "\r",
      " 22%|██▎       | 45/200 [00:10<00:37,  4.14it/s]"
     ]
    },
    {
     "name": "stdout",
     "output_type": "stream",
     "text": [
      "Epoch: 0045 loss_train: 5.9077 acc_train: 0.8643 acc_val: 0.8060 acc_test: 0.8310 time: 0.2241s\n"
     ]
    },
    {
     "name": "stderr",
     "output_type": "stream",
     "text": [
      "\r",
      " 23%|██▎       | 46/200 [00:10<00:36,  4.23it/s]"
     ]
    },
    {
     "name": "stdout",
     "output_type": "stream",
     "text": [
      "Epoch: 0046 loss_train: 6.0978 acc_train: 0.8143 acc_val: 0.8060 acc_test: 0.8240 time: 0.2224s\n"
     ]
    },
    {
     "name": "stderr",
     "output_type": "stream",
     "text": [
      "\r",
      " 24%|██▎       | 47/200 [00:10<00:35,  4.30it/s]"
     ]
    },
    {
     "name": "stdout",
     "output_type": "stream",
     "text": [
      "Epoch: 0047 loss_train: 6.2375 acc_train: 0.8714 acc_val: 0.8060 acc_test: 0.8230 time: 0.2233s\n"
     ]
    },
    {
     "name": "stderr",
     "output_type": "stream",
     "text": [
      "\r",
      " 24%|██▍       | 48/200 [00:11<00:35,  4.32it/s]"
     ]
    },
    {
     "name": "stdout",
     "output_type": "stream",
     "text": [
      "Epoch: 0048 loss_train: 5.3839 acc_train: 0.8500 acc_val: 0.8080 acc_test: 0.8240 time: 0.2273s\n"
     ]
    },
    {
     "name": "stderr",
     "output_type": "stream",
     "text": [
      "\r",
      " 24%|██▍       | 49/200 [00:11<00:34,  4.37it/s]"
     ]
    },
    {
     "name": "stdout",
     "output_type": "stream",
     "text": [
      "Epoch: 0049 loss_train: 5.7394 acc_train: 0.8429 acc_val: 0.8080 acc_test: 0.8280 time: 0.2222s\n"
     ]
    },
    {
     "name": "stderr",
     "output_type": "stream",
     "text": [
      "\r",
      " 25%|██▌       | 50/200 [00:11<00:34,  4.35it/s]"
     ]
    },
    {
     "name": "stdout",
     "output_type": "stream",
     "text": [
      "Epoch: 0050 loss_train: 5.2026 acc_train: 0.8857 acc_val: 0.8060 acc_test: 0.8320 time: 0.2313s\n"
     ]
    },
    {
     "name": "stderr",
     "output_type": "stream",
     "text": [
      "\r",
      " 26%|██▌       | 51/200 [00:11<00:34,  4.38it/s]"
     ]
    },
    {
     "name": "stdout",
     "output_type": "stream",
     "text": [
      "Epoch: 0051 loss_train: 4.8439 acc_train: 0.8643 acc_val: 0.8060 acc_test: 0.8330 time: 0.2235s\n"
     ]
    },
    {
     "name": "stderr",
     "output_type": "stream",
     "text": [
      "\r",
      " 26%|██▌       | 52/200 [00:12<00:33,  4.40it/s]"
     ]
    },
    {
     "name": "stdout",
     "output_type": "stream",
     "text": [
      "Epoch: 0052 loss_train: 4.7522 acc_train: 0.8786 acc_val: 0.8080 acc_test: 0.8330 time: 0.2235s\n"
     ]
    },
    {
     "name": "stderr",
     "output_type": "stream",
     "text": [
      "\r",
      " 26%|██▋       | 53/200 [00:12<00:33,  4.37it/s]"
     ]
    },
    {
     "name": "stdout",
     "output_type": "stream",
     "text": [
      "Epoch: 0053 loss_train: 5.0241 acc_train: 0.8643 acc_val: 0.8100 acc_test: 0.8310 time: 0.2311s\n"
     ]
    },
    {
     "name": "stderr",
     "output_type": "stream",
     "text": [
      "\r",
      " 27%|██▋       | 54/200 [00:12<00:33,  4.38it/s]"
     ]
    },
    {
     "name": "stdout",
     "output_type": "stream",
     "text": [
      "Epoch: 0054 loss_train: 5.0818 acc_train: 0.8857 acc_val: 0.8120 acc_test: 0.8310 time: 0.2252s\n"
     ]
    },
    {
     "name": "stderr",
     "output_type": "stream",
     "text": [
      "\r",
      " 28%|██▊       | 55/200 [00:12<00:32,  4.39it/s]"
     ]
    },
    {
     "name": "stdout",
     "output_type": "stream",
     "text": [
      "Epoch: 0055 loss_train: 4.2524 acc_train: 0.9071 acc_val: 0.8140 acc_test: 0.8340 time: 0.2246s\n"
     ]
    },
    {
     "name": "stderr",
     "output_type": "stream",
     "text": [
      "\r",
      " 28%|██▊       | 56/200 [00:12<00:32,  4.42it/s]"
     ]
    },
    {
     "name": "stdout",
     "output_type": "stream",
     "text": [
      "Epoch: 0056 loss_train: 4.7240 acc_train: 0.8714 acc_val: 0.8120 acc_test: 0.8340 time: 0.2228s\n"
     ]
    },
    {
     "name": "stderr",
     "output_type": "stream",
     "text": [
      "\r",
      " 28%|██▊       | 57/200 [00:13<00:32,  4.42it/s]"
     ]
    },
    {
     "name": "stdout",
     "output_type": "stream",
     "text": [
      "Epoch: 0057 loss_train: 4.5567 acc_train: 0.8929 acc_val: 0.8120 acc_test: 0.8310 time: 0.2254s\n"
     ]
    },
    {
     "name": "stderr",
     "output_type": "stream",
     "text": [
      "\r",
      " 29%|██▉       | 58/200 [00:13<00:32,  4.42it/s]"
     ]
    },
    {
     "name": "stdout",
     "output_type": "stream",
     "text": [
      "Epoch: 0058 loss_train: 4.0825 acc_train: 0.9143 acc_val: 0.8140 acc_test: 0.8300 time: 0.2244s\n"
     ]
    },
    {
     "name": "stderr",
     "output_type": "stream",
     "text": [
      "\r",
      " 30%|██▉       | 59/200 [00:13<00:31,  4.43it/s]"
     ]
    },
    {
     "name": "stdout",
     "output_type": "stream",
     "text": [
      "Epoch: 0059 loss_train: 3.7781 acc_train: 0.9143 acc_val: 0.8080 acc_test: 0.8290 time: 0.2242s\n"
     ]
    },
    {
     "name": "stderr",
     "output_type": "stream",
     "text": [
      "\r",
      " 30%|███       | 60/200 [00:13<00:31,  4.44it/s]"
     ]
    },
    {
     "name": "stdout",
     "output_type": "stream",
     "text": [
      "Epoch: 0060 loss_train: 4.8667 acc_train: 0.8857 acc_val: 0.8000 acc_test: 0.8240 time: 0.2228s\n"
     ]
    },
    {
     "name": "stderr",
     "output_type": "stream",
     "text": [
      "\r",
      " 30%|███       | 61/200 [00:14<00:31,  4.43it/s]"
     ]
    },
    {
     "name": "stdout",
     "output_type": "stream",
     "text": [
      "Epoch: 0061 loss_train: 4.0217 acc_train: 0.8857 acc_val: 0.7960 acc_test: 0.8200 time: 0.2249s\n"
     ]
    },
    {
     "name": "stderr",
     "output_type": "stream",
     "text": [
      "\r",
      " 31%|███       | 62/200 [00:14<00:31,  4.42it/s]"
     ]
    },
    {
     "name": "stdout",
     "output_type": "stream",
     "text": [
      "Epoch: 0062 loss_train: 3.6902 acc_train: 0.9357 acc_val: 0.7940 acc_test: 0.8170 time: 0.2269s\n"
     ]
    },
    {
     "name": "stderr",
     "output_type": "stream",
     "text": [
      "\r",
      " 32%|███▏      | 63/200 [00:14<00:31,  4.41it/s]"
     ]
    },
    {
     "name": "stdout",
     "output_type": "stream",
     "text": [
      "Epoch: 0063 loss_train: 4.0683 acc_train: 0.8857 acc_val: 0.7940 acc_test: 0.8200 time: 0.2257s\n"
     ]
    },
    {
     "name": "stderr",
     "output_type": "stream",
     "text": [
      "\r",
      " 32%|███▏      | 64/200 [00:14<00:30,  4.42it/s]"
     ]
    },
    {
     "name": "stdout",
     "output_type": "stream",
     "text": [
      "Epoch: 0064 loss_train: 3.7235 acc_train: 0.9214 acc_val: 0.7960 acc_test: 0.8250 time: 0.2239s\n"
     ]
    },
    {
     "name": "stderr",
     "output_type": "stream",
     "text": [
      "\r",
      " 32%|███▎      | 65/200 [00:15<00:30,  4.43it/s]"
     ]
    },
    {
     "name": "stdout",
     "output_type": "stream",
     "text": [
      "Epoch: 0065 loss_train: 4.0219 acc_train: 0.9071 acc_val: 0.8020 acc_test: 0.8290 time: 0.2226s\n"
     ]
    },
    {
     "name": "stderr",
     "output_type": "stream",
     "text": [
      "\r",
      " 33%|███▎      | 66/200 [00:15<00:30,  4.42it/s]"
     ]
    },
    {
     "name": "stdout",
     "output_type": "stream",
     "text": [
      "Epoch: 0066 loss_train: 3.4831 acc_train: 0.9214 acc_val: 0.8040 acc_test: 0.8350 time: 0.2259s\n"
     ]
    },
    {
     "name": "stderr",
     "output_type": "stream",
     "text": [
      "\r",
      " 34%|███▎      | 67/200 [00:15<00:30,  4.41it/s]"
     ]
    },
    {
     "name": "stdout",
     "output_type": "stream",
     "text": [
      "Epoch: 0067 loss_train: 3.6538 acc_train: 0.9143 acc_val: 0.8100 acc_test: 0.8330 time: 0.2266s\n"
     ]
    },
    {
     "name": "stderr",
     "output_type": "stream",
     "text": [
      "\r",
      " 34%|███▍      | 68/200 [00:15<00:29,  4.40it/s]"
     ]
    },
    {
     "name": "stdout",
     "output_type": "stream",
     "text": [
      "Epoch: 0068 loss_train: 3.9356 acc_train: 0.9071 acc_val: 0.8080 acc_test: 0.8330 time: 0.2273s\n"
     ]
    },
    {
     "name": "stderr",
     "output_type": "stream",
     "text": [
      "\r",
      " 34%|███▍      | 69/200 [00:15<00:29,  4.42it/s]"
     ]
    },
    {
     "name": "stdout",
     "output_type": "stream",
     "text": [
      "Epoch: 0069 loss_train: 4.0187 acc_train: 0.9071 acc_val: 0.8060 acc_test: 0.8330 time: 0.2222s\n"
     ]
    },
    {
     "name": "stderr",
     "output_type": "stream",
     "text": [
      "\r",
      " 35%|███▌      | 70/200 [00:16<00:29,  4.43it/s]"
     ]
    },
    {
     "name": "stdout",
     "output_type": "stream",
     "text": [
      "Epoch: 0070 loss_train: 3.9335 acc_train: 0.9143 acc_val: 0.8060 acc_test: 0.8300 time: 0.2242s\n"
     ]
    },
    {
     "name": "stderr",
     "output_type": "stream",
     "text": [
      "\r",
      " 36%|███▌      | 71/200 [00:16<00:29,  4.37it/s]"
     ]
    },
    {
     "name": "stdout",
     "output_type": "stream",
     "text": [
      "Epoch: 0071 loss_train: 3.2613 acc_train: 0.9214 acc_val: 0.8060 acc_test: 0.8270 time: 0.2336s\n"
     ]
    },
    {
     "name": "stderr",
     "output_type": "stream",
     "text": [
      "\r",
      " 36%|███▌      | 72/200 [00:16<00:29,  4.36it/s]"
     ]
    },
    {
     "name": "stdout",
     "output_type": "stream",
     "text": [
      "Epoch: 0072 loss_train: 3.6717 acc_train: 0.9071 acc_val: 0.8040 acc_test: 0.8240 time: 0.2303s\n"
     ]
    },
    {
     "name": "stderr",
     "output_type": "stream",
     "text": [
      "\r",
      " 36%|███▋      | 73/200 [00:16<00:29,  4.38it/s]"
     ]
    },
    {
     "name": "stdout",
     "output_type": "stream",
     "text": [
      "Epoch: 0073 loss_train: 3.7836 acc_train: 0.9214 acc_val: 0.8040 acc_test: 0.8240 time: 0.2240s\n"
     ]
    },
    {
     "name": "stderr",
     "output_type": "stream",
     "text": [
      "\r",
      " 37%|███▋      | 74/200 [00:17<00:28,  4.40it/s]"
     ]
    },
    {
     "name": "stdout",
     "output_type": "stream",
     "text": [
      "Epoch: 0074 loss_train: 3.9682 acc_train: 0.8929 acc_val: 0.8040 acc_test: 0.8270 time: 0.2231s\n"
     ]
    },
    {
     "name": "stderr",
     "output_type": "stream",
     "text": [
      "\r",
      " 38%|███▊      | 75/200 [00:17<00:28,  4.37it/s]"
     ]
    },
    {
     "name": "stdout",
     "output_type": "stream",
     "text": [
      "Epoch: 0075 loss_train: 3.4425 acc_train: 0.9571 acc_val: 0.7960 acc_test: 0.8220 time: 0.2318s\n"
     ]
    },
    {
     "name": "stderr",
     "output_type": "stream",
     "text": [
      "\r",
      " 38%|███▊      | 76/200 [00:17<00:28,  4.39it/s]"
     ]
    },
    {
     "name": "stdout",
     "output_type": "stream",
     "text": [
      "Epoch: 0076 loss_train: 4.0242 acc_train: 0.9286 acc_val: 0.7940 acc_test: 0.8220 time: 0.2238s\n"
     ]
    },
    {
     "name": "stderr",
     "output_type": "stream",
     "text": [
      "\r",
      " 38%|███▊      | 77/200 [00:17<00:28,  4.38it/s]"
     ]
    },
    {
     "name": "stdout",
     "output_type": "stream",
     "text": [
      "Epoch: 0077 loss_train: 3.2203 acc_train: 0.9500 acc_val: 0.7960 acc_test: 0.8210 time: 0.2286s\n"
     ]
    },
    {
     "name": "stderr",
     "output_type": "stream",
     "text": [
      "\r",
      " 39%|███▉      | 78/200 [00:17<00:27,  4.37it/s]"
     ]
    },
    {
     "name": "stdout",
     "output_type": "stream",
     "text": [
      "Epoch: 0078 loss_train: 3.6261 acc_train: 0.9357 acc_val: 0.7980 acc_test: 0.8260 time: 0.2290s\n"
     ]
    },
    {
     "name": "stderr",
     "output_type": "stream",
     "text": [
      "\r",
      " 40%|███▉      | 79/200 [00:18<00:27,  4.37it/s]"
     ]
    },
    {
     "name": "stdout",
     "output_type": "stream",
     "text": [
      "Epoch: 0079 loss_train: 3.0244 acc_train: 0.9429 acc_val: 0.8000 acc_test: 0.8240 time: 0.2274s\n"
     ]
    },
    {
     "name": "stderr",
     "output_type": "stream",
     "text": [
      "\r",
      " 40%|████      | 80/200 [00:18<00:27,  4.38it/s]"
     ]
    },
    {
     "name": "stdout",
     "output_type": "stream",
     "text": [
      "Epoch: 0080 loss_train: 2.7376 acc_train: 0.9571 acc_val: 0.8040 acc_test: 0.8320 time: 0.2247s\n"
     ]
    },
    {
     "name": "stderr",
     "output_type": "stream",
     "text": [
      "\r",
      " 40%|████      | 81/200 [00:18<00:27,  4.39it/s]"
     ]
    },
    {
     "name": "stdout",
     "output_type": "stream",
     "text": [
      "Epoch: 0081 loss_train: 3.6277 acc_train: 0.9286 acc_val: 0.8060 acc_test: 0.8330 time: 0.2254s\n"
     ]
    },
    {
     "name": "stderr",
     "output_type": "stream",
     "text": [
      "\r",
      " 41%|████      | 82/200 [00:18<00:26,  4.41it/s]"
     ]
    },
    {
     "name": "stdout",
     "output_type": "stream",
     "text": [
      "Epoch: 0082 loss_train: 3.5096 acc_train: 0.8786 acc_val: 0.8100 acc_test: 0.8330 time: 0.2232s\n"
     ]
    },
    {
     "name": "stderr",
     "output_type": "stream",
     "text": [
      "\r",
      " 42%|████▏     | 83/200 [00:19<00:26,  4.40it/s]"
     ]
    },
    {
     "name": "stdout",
     "output_type": "stream",
     "text": [
      "Epoch: 0083 loss_train: 3.3071 acc_train: 0.9429 acc_val: 0.8100 acc_test: 0.8340 time: 0.2276s\n"
     ]
    },
    {
     "name": "stderr",
     "output_type": "stream",
     "text": [
      "\r",
      " 42%|████▏     | 84/200 [00:19<00:26,  4.36it/s]"
     ]
    },
    {
     "name": "stdout",
     "output_type": "stream",
     "text": [
      "Epoch: 0084 loss_train: 3.2259 acc_train: 0.9071 acc_val: 0.8060 acc_test: 0.8320 time: 0.2324s\n"
     ]
    },
    {
     "name": "stderr",
     "output_type": "stream",
     "text": [
      "\r",
      " 42%|████▎     | 85/200 [00:19<00:26,  4.40it/s]"
     ]
    },
    {
     "name": "stdout",
     "output_type": "stream",
     "text": [
      "Epoch: 0085 loss_train: 3.0680 acc_train: 0.9286 acc_val: 0.8060 acc_test: 0.8340 time: 0.2222s\n"
     ]
    },
    {
     "name": "stderr",
     "output_type": "stream",
     "text": [
      "\r",
      " 43%|████▎     | 86/200 [00:19<00:25,  4.40it/s]"
     ]
    },
    {
     "name": "stdout",
     "output_type": "stream",
     "text": [
      "Epoch: 0086 loss_train: 2.9606 acc_train: 0.9214 acc_val: 0.8060 acc_test: 0.8320 time: 0.2250s\n"
     ]
    },
    {
     "name": "stderr",
     "output_type": "stream",
     "text": [
      "\r",
      " 44%|████▎     | 87/200 [00:20<00:25,  4.36it/s]"
     ]
    },
    {
     "name": "stdout",
     "output_type": "stream",
     "text": [
      "Epoch: 0087 loss_train: 3.0567 acc_train: 0.9071 acc_val: 0.8040 acc_test: 0.8280 time: 0.2328s\n"
     ]
    },
    {
     "name": "stderr",
     "output_type": "stream",
     "text": [
      "\r",
      " 44%|████▍     | 88/200 [00:20<00:25,  4.37it/s]"
     ]
    },
    {
     "name": "stdout",
     "output_type": "stream",
     "text": [
      "Epoch: 0088 loss_train: 3.0872 acc_train: 0.9357 acc_val: 0.8000 acc_test: 0.8220 time: 0.2270s\n"
     ]
    },
    {
     "name": "stderr",
     "output_type": "stream",
     "text": [
      "\r",
      " 44%|████▍     | 89/200 [00:20<00:25,  4.38it/s]"
     ]
    },
    {
     "name": "stdout",
     "output_type": "stream",
     "text": [
      "Epoch: 0089 loss_train: 3.4129 acc_train: 0.9214 acc_val: 0.8000 acc_test: 0.8240 time: 0.2255s\n"
     ]
    },
    {
     "name": "stderr",
     "output_type": "stream",
     "text": [
      "\r",
      " 45%|████▌     | 90/200 [00:20<00:25,  4.39it/s]"
     ]
    },
    {
     "name": "stdout",
     "output_type": "stream",
     "text": [
      "Epoch: 0090 loss_train: 3.1042 acc_train: 0.9214 acc_val: 0.8020 acc_test: 0.8230 time: 0.2256s\n"
     ]
    },
    {
     "name": "stderr",
     "output_type": "stream",
     "text": [
      "\r",
      " 46%|████▌     | 91/200 [00:20<00:24,  4.40it/s]"
     ]
    },
    {
     "name": "stdout",
     "output_type": "stream",
     "text": [
      "Epoch: 0091 loss_train: 3.3418 acc_train: 0.9143 acc_val: 0.8020 acc_test: 0.8220 time: 0.2251s\n"
     ]
    },
    {
     "name": "stderr",
     "output_type": "stream",
     "text": [
      "\r",
      " 46%|████▌     | 92/200 [00:21<00:24,  4.39it/s]"
     ]
    },
    {
     "name": "stdout",
     "output_type": "stream",
     "text": [
      "Epoch: 0092 loss_train: 3.0473 acc_train: 0.9357 acc_val: 0.8020 acc_test: 0.8220 time: 0.2270s\n"
     ]
    },
    {
     "name": "stderr",
     "output_type": "stream",
     "text": [
      "\r",
      " 46%|████▋     | 93/200 [00:21<00:24,  4.38it/s]"
     ]
    },
    {
     "name": "stdout",
     "output_type": "stream",
     "text": [
      "Epoch: 0093 loss_train: 3.0543 acc_train: 0.9071 acc_val: 0.8020 acc_test: 0.8210 time: 0.2282s\n"
     ]
    },
    {
     "name": "stderr",
     "output_type": "stream",
     "text": [
      "\r",
      " 47%|████▋     | 94/200 [00:21<00:24,  4.39it/s]"
     ]
    },
    {
     "name": "stdout",
     "output_type": "stream",
     "text": [
      "Epoch: 0094 loss_train: 3.4615 acc_train: 0.8929 acc_val: 0.8020 acc_test: 0.8190 time: 0.2254s\n"
     ]
    },
    {
     "name": "stderr",
     "output_type": "stream",
     "text": [
      "\r",
      " 48%|████▊     | 95/200 [00:21<00:23,  4.41it/s]"
     ]
    },
    {
     "name": "stdout",
     "output_type": "stream",
     "text": [
      "Epoch: 0095 loss_train: 3.0138 acc_train: 0.9571 acc_val: 0.8000 acc_test: 0.8170 time: 0.2235s\n"
     ]
    },
    {
     "name": "stderr",
     "output_type": "stream",
     "text": [
      "\r",
      " 48%|████▊     | 96/200 [00:22<00:23,  4.39it/s]"
     ]
    },
    {
     "name": "stdout",
     "output_type": "stream",
     "text": [
      "Epoch: 0096 loss_train: 3.1055 acc_train: 0.9429 acc_val: 0.8000 acc_test: 0.8140 time: 0.2293s\n"
     ]
    },
    {
     "name": "stderr",
     "output_type": "stream",
     "text": [
      "\r",
      " 48%|████▊     | 97/200 [00:22<00:23,  4.37it/s]"
     ]
    },
    {
     "name": "stdout",
     "output_type": "stream",
     "text": [
      "Epoch: 0097 loss_train: 2.8365 acc_train: 0.9643 acc_val: 0.8040 acc_test: 0.8150 time: 0.2296s\n"
     ]
    },
    {
     "name": "stderr",
     "output_type": "stream",
     "text": [
      "\r",
      " 49%|████▉     | 98/200 [00:22<00:23,  4.37it/s]"
     ]
    },
    {
     "name": "stdout",
     "output_type": "stream",
     "text": [
      "Epoch: 0098 loss_train: 3.8194 acc_train: 0.9071 acc_val: 0.8020 acc_test: 0.8130 time: 0.2275s\n"
     ]
    },
    {
     "name": "stderr",
     "output_type": "stream",
     "text": [
      "\r",
      " 50%|████▉     | 99/200 [00:22<00:23,  4.38it/s]"
     ]
    },
    {
     "name": "stdout",
     "output_type": "stream",
     "text": [
      "Epoch: 0099 loss_train: 2.7732 acc_train: 0.9357 acc_val: 0.8040 acc_test: 0.8240 time: 0.2261s\n"
     ]
    },
    {
     "name": "stderr",
     "output_type": "stream",
     "text": [
      "\r",
      " 50%|█████     | 100/200 [00:22<00:22,  4.40it/s]"
     ]
    },
    {
     "name": "stdout",
     "output_type": "stream",
     "text": [
      "Epoch: 0100 loss_train: 3.6768 acc_train: 0.9286 acc_val: 0.8100 acc_test: 0.8270 time: 0.2236s\n"
     ]
    },
    {
     "name": "stderr",
     "output_type": "stream",
     "text": [
      "\r",
      " 50%|█████     | 101/200 [00:23<00:22,  4.38it/s]"
     ]
    },
    {
     "name": "stdout",
     "output_type": "stream",
     "text": [
      "Epoch: 0101 loss_train: 3.6454 acc_train: 0.8929 acc_val: 0.8120 acc_test: 0.8340 time: 0.2293s\n"
     ]
    },
    {
     "name": "stderr",
     "output_type": "stream",
     "text": [
      "\r",
      " 51%|█████     | 102/200 [00:23<00:22,  4.39it/s]"
     ]
    },
    {
     "name": "stdout",
     "output_type": "stream",
     "text": [
      "Epoch: 0102 loss_train: 2.3096 acc_train: 0.9571 acc_val: 0.8120 acc_test: 0.8370 time: 0.2244s\n"
     ]
    },
    {
     "name": "stderr",
     "output_type": "stream",
     "text": [
      "\r",
      " 52%|█████▏    | 103/200 [00:23<00:21,  4.41it/s]"
     ]
    },
    {
     "name": "stdout",
     "output_type": "stream",
     "text": [
      "Epoch: 0103 loss_train: 3.0296 acc_train: 0.9214 acc_val: 0.8160 acc_test: 0.8380 time: 0.2234s\n"
     ]
    },
    {
     "name": "stderr",
     "output_type": "stream",
     "text": [
      "\r",
      " 52%|█████▏    | 104/200 [00:23<00:21,  4.43it/s]"
     ]
    },
    {
     "name": "stdout",
     "output_type": "stream",
     "text": [
      "Epoch: 0104 loss_train: 2.8010 acc_train: 0.9214 acc_val: 0.8120 acc_test: 0.8330 time: 0.2229s\n"
     ]
    },
    {
     "name": "stderr",
     "output_type": "stream",
     "text": [
      "\r",
      " 52%|█████▎    | 105/200 [00:24<00:21,  4.42it/s]"
     ]
    },
    {
     "name": "stdout",
     "output_type": "stream",
     "text": [
      "Epoch: 0105 loss_train: 2.6019 acc_train: 0.9357 acc_val: 0.8020 acc_test: 0.8350 time: 0.2254s\n"
     ]
    },
    {
     "name": "stderr",
     "output_type": "stream",
     "text": [
      "\r",
      " 53%|█████▎    | 106/200 [00:24<00:21,  4.41it/s]"
     ]
    },
    {
     "name": "stdout",
     "output_type": "stream",
     "text": [
      "Epoch: 0106 loss_train: 2.4590 acc_train: 0.9500 acc_val: 0.8020 acc_test: 0.8270 time: 0.2262s\n"
     ]
    },
    {
     "name": "stderr",
     "output_type": "stream",
     "text": [
      "\r",
      " 54%|█████▎    | 107/200 [00:24<00:21,  4.42it/s]"
     ]
    },
    {
     "name": "stdout",
     "output_type": "stream",
     "text": [
      "Epoch: 0107 loss_train: 3.4560 acc_train: 0.9071 acc_val: 0.8060 acc_test: 0.8260 time: 0.2242s\n"
     ]
    },
    {
     "name": "stderr",
     "output_type": "stream",
     "text": [
      "\r",
      " 54%|█████▍    | 108/200 [00:24<00:20,  4.42it/s]"
     ]
    },
    {
     "name": "stdout",
     "output_type": "stream",
     "text": [
      "Epoch: 0108 loss_train: 2.8968 acc_train: 0.9214 acc_val: 0.8000 acc_test: 0.8200 time: 0.2244s\n"
     ]
    },
    {
     "name": "stderr",
     "output_type": "stream",
     "text": [
      "\r",
      " 55%|█████▍    | 109/200 [00:25<00:20,  4.41it/s]"
     ]
    },
    {
     "name": "stdout",
     "output_type": "stream",
     "text": [
      "Epoch: 0109 loss_train: 3.1690 acc_train: 0.9429 acc_val: 0.7980 acc_test: 0.8150 time: 0.2261s\n"
     ]
    },
    {
     "name": "stderr",
     "output_type": "stream",
     "text": [
      "\r",
      " 55%|█████▌    | 110/200 [00:25<00:20,  4.38it/s]"
     ]
    },
    {
     "name": "stdout",
     "output_type": "stream",
     "text": [
      "Epoch: 0110 loss_train: 2.7635 acc_train: 0.9357 acc_val: 0.8000 acc_test: 0.8140 time: 0.2308s\n"
     ]
    },
    {
     "name": "stderr",
     "output_type": "stream",
     "text": [
      "\r",
      " 56%|█████▌    | 111/200 [00:25<00:20,  4.40it/s]"
     ]
    },
    {
     "name": "stdout",
     "output_type": "stream",
     "text": [
      "Epoch: 0111 loss_train: 2.6182 acc_train: 0.9571 acc_val: 0.8040 acc_test: 0.8220 time: 0.2240s\n"
     ]
    },
    {
     "name": "stderr",
     "output_type": "stream",
     "text": [
      "\r",
      " 56%|█████▌    | 112/200 [00:25<00:19,  4.40it/s]"
     ]
    },
    {
     "name": "stdout",
     "output_type": "stream",
     "text": [
      "Epoch: 0112 loss_train: 2.3630 acc_train: 0.9500 acc_val: 0.8020 acc_test: 0.8220 time: 0.2251s\n"
     ]
    },
    {
     "name": "stderr",
     "output_type": "stream",
     "text": [
      "\r",
      " 56%|█████▋    | 113/200 [00:25<00:19,  4.41it/s]"
     ]
    },
    {
     "name": "stdout",
     "output_type": "stream",
     "text": [
      "Epoch: 0113 loss_train: 3.4506 acc_train: 0.8857 acc_val: 0.8020 acc_test: 0.8260 time: 0.2239s\n"
     ]
    },
    {
     "name": "stderr",
     "output_type": "stream",
     "text": [
      "\r",
      " 57%|█████▋    | 114/200 [00:26<00:19,  4.38it/s]"
     ]
    },
    {
     "name": "stdout",
     "output_type": "stream",
     "text": [
      "Epoch: 0114 loss_train: 2.4531 acc_train: 0.9571 acc_val: 0.8060 acc_test: 0.8360 time: 0.2301s\n"
     ]
    },
    {
     "name": "stderr",
     "output_type": "stream",
     "text": [
      "\r",
      " 57%|█████▊    | 115/200 [00:26<00:19,  4.39it/s]"
     ]
    },
    {
     "name": "stdout",
     "output_type": "stream",
     "text": [
      "Epoch: 0115 loss_train: 3.1791 acc_train: 0.9214 acc_val: 0.8140 acc_test: 0.8390 time: 0.2255s\n"
     ]
    },
    {
     "name": "stderr",
     "output_type": "stream",
     "text": [
      "\r",
      " 58%|█████▊    | 116/200 [00:26<00:19,  4.41it/s]"
     ]
    },
    {
     "name": "stdout",
     "output_type": "stream",
     "text": [
      "Epoch: 0116 loss_train: 2.3007 acc_train: 0.9571 acc_val: 0.8240 acc_test: 0.8430 time: 0.2232s\n"
     ]
    },
    {
     "name": "stderr",
     "output_type": "stream",
     "text": [
      "\r",
      " 58%|█████▊    | 117/200 [00:26<00:18,  4.40it/s]"
     ]
    },
    {
     "name": "stdout",
     "output_type": "stream",
     "text": [
      "Epoch: 0117 loss_train: 3.0491 acc_train: 0.9286 acc_val: 0.8260 acc_test: 0.8420 time: 0.2271s\n"
     ]
    },
    {
     "name": "stderr",
     "output_type": "stream",
     "text": [
      "\r",
      " 59%|█████▉    | 118/200 [00:27<00:18,  4.40it/s]"
     ]
    },
    {
     "name": "stdout",
     "output_type": "stream",
     "text": [
      "Epoch: 0118 loss_train: 2.7764 acc_train: 0.9429 acc_val: 0.8280 acc_test: 0.8430 time: 0.2262s\n"
     ]
    },
    {
     "name": "stderr",
     "output_type": "stream",
     "text": [
      "\r",
      " 60%|█████▉    | 119/200 [00:27<00:18,  4.41it/s]"
     ]
    },
    {
     "name": "stdout",
     "output_type": "stream",
     "text": [
      "Epoch: 0119 loss_train: 3.1203 acc_train: 0.9071 acc_val: 0.8160 acc_test: 0.8380 time: 0.2242s\n"
     ]
    },
    {
     "name": "stderr",
     "output_type": "stream",
     "text": [
      "\r",
      " 60%|██████    | 120/200 [00:27<00:18,  4.42it/s]"
     ]
    },
    {
     "name": "stdout",
     "output_type": "stream",
     "text": [
      "Epoch: 0120 loss_train: 2.7162 acc_train: 0.9500 acc_val: 0.8120 acc_test: 0.8350 time: 0.2241s\n"
     ]
    },
    {
     "name": "stderr",
     "output_type": "stream",
     "text": [
      "\r",
      " 60%|██████    | 121/200 [00:27<00:17,  4.41it/s]"
     ]
    },
    {
     "name": "stdout",
     "output_type": "stream",
     "text": [
      "Epoch: 0121 loss_train: 2.6550 acc_train: 0.9429 acc_val: 0.8100 acc_test: 0.8300 time: 0.2260s\n"
     ]
    },
    {
     "name": "stderr",
     "output_type": "stream",
     "text": [
      "\r",
      " 61%|██████    | 122/200 [00:27<00:17,  4.42it/s]"
     ]
    },
    {
     "name": "stdout",
     "output_type": "stream",
     "text": [
      "Epoch: 0122 loss_train: 2.8246 acc_train: 0.9571 acc_val: 0.8060 acc_test: 0.8260 time: 0.2233s\n"
     ]
    },
    {
     "name": "stderr",
     "output_type": "stream",
     "text": [
      "\r",
      " 62%|██████▏   | 123/200 [00:28<00:17,  4.43it/s]"
     ]
    },
    {
     "name": "stdout",
     "output_type": "stream",
     "text": [
      "Epoch: 0123 loss_train: 2.6173 acc_train: 0.9571 acc_val: 0.8080 acc_test: 0.8210 time: 0.2233s\n"
     ]
    },
    {
     "name": "stderr",
     "output_type": "stream",
     "text": [
      "\r",
      " 62%|██████▏   | 124/200 [00:28<00:17,  4.43it/s]"
     ]
    },
    {
     "name": "stdout",
     "output_type": "stream",
     "text": [
      "Epoch: 0124 loss_train: 3.0478 acc_train: 0.9357 acc_val: 0.8040 acc_test: 0.8200 time: 0.2239s\n"
     ]
    },
    {
     "name": "stderr",
     "output_type": "stream",
     "text": [
      "\r",
      " 62%|██████▎   | 125/200 [00:28<00:16,  4.43it/s]"
     ]
    },
    {
     "name": "stdout",
     "output_type": "stream",
     "text": [
      "Epoch: 0125 loss_train: 2.4239 acc_train: 0.9429 acc_val: 0.8040 acc_test: 0.8200 time: 0.2255s\n"
     ]
    },
    {
     "name": "stderr",
     "output_type": "stream",
     "text": [
      "\r",
      " 63%|██████▎   | 126/200 [00:28<00:16,  4.43it/s]"
     ]
    },
    {
     "name": "stdout",
     "output_type": "stream",
     "text": [
      "Epoch: 0126 loss_train: 2.7197 acc_train: 0.9429 acc_val: 0.8020 acc_test: 0.8170 time: 0.2234s\n"
     ]
    },
    {
     "name": "stderr",
     "output_type": "stream",
     "text": [
      "\r",
      " 64%|██████▎   | 127/200 [00:29<00:16,  4.41it/s]"
     ]
    },
    {
     "name": "stdout",
     "output_type": "stream",
     "text": [
      "Epoch: 0127 loss_train: 3.0603 acc_train: 0.9000 acc_val: 0.7980 acc_test: 0.8200 time: 0.2287s\n"
     ]
    },
    {
     "name": "stderr",
     "output_type": "stream",
     "text": [
      "\r",
      " 64%|██████▍   | 128/200 [00:29<00:16,  4.37it/s]"
     ]
    },
    {
     "name": "stdout",
     "output_type": "stream",
     "text": [
      "Epoch: 0128 loss_train: 2.7521 acc_train: 0.9357 acc_val: 0.8000 acc_test: 0.8210 time: 0.2321s\n"
     ]
    },
    {
     "name": "stderr",
     "output_type": "stream",
     "text": [
      "\r",
      " 64%|██████▍   | 129/200 [00:29<00:16,  4.35it/s]"
     ]
    },
    {
     "name": "stdout",
     "output_type": "stream",
     "text": [
      "Epoch: 0129 loss_train: 2.3158 acc_train: 0.9500 acc_val: 0.7980 acc_test: 0.8200 time: 0.2305s\n"
     ]
    },
    {
     "name": "stderr",
     "output_type": "stream",
     "text": [
      "\r",
      " 65%|██████▌   | 130/200 [00:29<00:16,  4.36it/s]"
     ]
    },
    {
     "name": "stdout",
     "output_type": "stream",
     "text": [
      "Epoch: 0130 loss_train: 3.3638 acc_train: 0.9143 acc_val: 0.8020 acc_test: 0.8250 time: 0.2262s\n"
     ]
    },
    {
     "name": "stderr",
     "output_type": "stream",
     "text": [
      "\r",
      " 66%|██████▌   | 131/200 [00:30<00:15,  4.34it/s]"
     ]
    },
    {
     "name": "stdout",
     "output_type": "stream",
     "text": [
      "Epoch: 0131 loss_train: 3.1726 acc_train: 0.9143 acc_val: 0.8020 acc_test: 0.8270 time: 0.2311s\n"
     ]
    },
    {
     "name": "stderr",
     "output_type": "stream",
     "text": [
      "\r",
      " 66%|██████▌   | 132/200 [00:30<00:15,  4.35it/s]"
     ]
    },
    {
     "name": "stdout",
     "output_type": "stream",
     "text": [
      "Epoch: 0132 loss_train: 3.9903 acc_train: 0.8929 acc_val: 0.8040 acc_test: 0.8300 time: 0.2270s\n"
     ]
    },
    {
     "name": "stderr",
     "output_type": "stream",
     "text": [
      "\r",
      " 66%|██████▋   | 133/200 [00:30<00:15,  4.38it/s]"
     ]
    },
    {
     "name": "stdout",
     "output_type": "stream",
     "text": [
      "Epoch: 0133 loss_train: 2.5561 acc_train: 0.9429 acc_val: 0.8080 acc_test: 0.8300 time: 0.2246s\n"
     ]
    },
    {
     "name": "stderr",
     "output_type": "stream",
     "text": [
      "\r",
      " 67%|██████▋   | 134/200 [00:30<00:15,  4.39it/s]"
     ]
    },
    {
     "name": "stdout",
     "output_type": "stream",
     "text": [
      "Epoch: 0134 loss_train: 2.1049 acc_train: 0.9786 acc_val: 0.8080 acc_test: 0.8310 time: 0.2248s\n"
     ]
    },
    {
     "name": "stderr",
     "output_type": "stream",
     "text": [
      "\r",
      " 68%|██████▊   | 135/200 [00:30<00:14,  4.41it/s]"
     ]
    },
    {
     "name": "stdout",
     "output_type": "stream",
     "text": [
      "Epoch: 0135 loss_train: 3.0675 acc_train: 0.8929 acc_val: 0.8080 acc_test: 0.8320 time: 0.2231s\n"
     ]
    },
    {
     "name": "stderr",
     "output_type": "stream",
     "text": [
      "\r",
      " 68%|██████▊   | 136/200 [00:31<00:14,  4.42it/s]"
     ]
    },
    {
     "name": "stdout",
     "output_type": "stream",
     "text": [
      "Epoch: 0136 loss_train: 2.8571 acc_train: 0.9286 acc_val: 0.8020 acc_test: 0.8300 time: 0.2231s\n"
     ]
    },
    {
     "name": "stderr",
     "output_type": "stream",
     "text": [
      "\r",
      " 68%|██████▊   | 137/200 [00:31<00:14,  4.43it/s]"
     ]
    },
    {
     "name": "stdout",
     "output_type": "stream",
     "text": [
      "Epoch: 0137 loss_train: 2.6764 acc_train: 0.9571 acc_val: 0.8000 acc_test: 0.8270 time: 0.2232s\n"
     ]
    },
    {
     "name": "stderr",
     "output_type": "stream",
     "text": [
      "\r",
      " 69%|██████▉   | 138/200 [00:31<00:14,  4.42it/s]"
     ]
    },
    {
     "name": "stdout",
     "output_type": "stream",
     "text": [
      "Epoch: 0138 loss_train: 2.0921 acc_train: 0.9571 acc_val: 0.8020 acc_test: 0.8240 time: 0.2270s\n"
     ]
    },
    {
     "name": "stderr",
     "output_type": "stream",
     "text": [
      "\r",
      " 70%|██████▉   | 139/200 [00:31<00:13,  4.42it/s]"
     ]
    },
    {
     "name": "stdout",
     "output_type": "stream",
     "text": [
      "Epoch: 0139 loss_train: 2.4442 acc_train: 0.9214 acc_val: 0.8040 acc_test: 0.8250 time: 0.2246s\n"
     ]
    },
    {
     "name": "stderr",
     "output_type": "stream",
     "text": [
      "\r",
      " 70%|███████   | 140/200 [00:32<00:13,  4.40it/s]"
     ]
    },
    {
     "name": "stdout",
     "output_type": "stream",
     "text": [
      "Epoch: 0140 loss_train: 2.9548 acc_train: 0.9357 acc_val: 0.8040 acc_test: 0.8250 time: 0.2276s\n"
     ]
    },
    {
     "name": "stderr",
     "output_type": "stream",
     "text": [
      "\r",
      " 70%|███████   | 141/200 [00:32<00:13,  4.39it/s]"
     ]
    },
    {
     "name": "stdout",
     "output_type": "stream",
     "text": [
      "Epoch: 0141 loss_train: 3.1059 acc_train: 0.9071 acc_val: 0.8060 acc_test: 0.8220 time: 0.2284s\n"
     ]
    },
    {
     "name": "stderr",
     "output_type": "stream",
     "text": [
      "\r",
      " 71%|███████   | 142/200 [00:32<00:13,  4.40it/s]"
     ]
    },
    {
     "name": "stdout",
     "output_type": "stream",
     "text": [
      "Epoch: 0142 loss_train: 2.5276 acc_train: 0.9714 acc_val: 0.8100 acc_test: 0.8200 time: 0.2239s\n"
     ]
    },
    {
     "name": "stderr",
     "output_type": "stream",
     "text": [
      "\r",
      " 72%|███████▏  | 143/200 [00:32<00:12,  4.40it/s]"
     ]
    },
    {
     "name": "stdout",
     "output_type": "stream",
     "text": [
      "Epoch: 0143 loss_train: 2.2982 acc_train: 0.9429 acc_val: 0.8120 acc_test: 0.8240 time: 0.2261s\n"
     ]
    },
    {
     "name": "stderr",
     "output_type": "stream",
     "text": [
      "\r",
      " 72%|███████▏  | 144/200 [00:32<00:12,  4.39it/s]"
     ]
    },
    {
     "name": "stdout",
     "output_type": "stream",
     "text": [
      "Epoch: 0144 loss_train: 2.7580 acc_train: 0.9500 acc_val: 0.8100 acc_test: 0.8260 time: 0.2276s\n"
     ]
    },
    {
     "name": "stderr",
     "output_type": "stream",
     "text": [
      "\r",
      " 72%|███████▎  | 145/200 [00:33<00:12,  4.41it/s]"
     ]
    },
    {
     "name": "stdout",
     "output_type": "stream",
     "text": [
      "Epoch: 0145 loss_train: 2.5439 acc_train: 0.9286 acc_val: 0.8100 acc_test: 0.8250 time: 0.2231s\n"
     ]
    },
    {
     "name": "stderr",
     "output_type": "stream",
     "text": [
      "\r",
      " 73%|███████▎  | 146/200 [00:33<00:12,  4.39it/s]"
     ]
    },
    {
     "name": "stdout",
     "output_type": "stream",
     "text": [
      "Epoch: 0146 loss_train: 2.3641 acc_train: 0.9429 acc_val: 0.8080 acc_test: 0.8250 time: 0.2284s\n"
     ]
    },
    {
     "name": "stderr",
     "output_type": "stream",
     "text": [
      "\r",
      " 74%|███████▎  | 147/200 [00:33<00:11,  4.43it/s]"
     ]
    },
    {
     "name": "stdout",
     "output_type": "stream",
     "text": [
      "Epoch: 0147 loss_train: 2.1592 acc_train: 0.9643 acc_val: 0.8080 acc_test: 0.8250 time: 0.2204s\n"
     ]
    },
    {
     "name": "stderr",
     "output_type": "stream",
     "text": [
      "\r",
      " 74%|███████▍  | 148/200 [00:33<00:11,  4.43it/s]"
     ]
    },
    {
     "name": "stdout",
     "output_type": "stream",
     "text": [
      "Epoch: 0148 loss_train: 2.6323 acc_train: 0.9429 acc_val: 0.8080 acc_test: 0.8290 time: 0.2235s\n"
     ]
    },
    {
     "name": "stderr",
     "output_type": "stream",
     "text": [
      "\r",
      " 74%|███████▍  | 149/200 [00:34<00:11,  4.43it/s]"
     ]
    },
    {
     "name": "stdout",
     "output_type": "stream",
     "text": [
      "Epoch: 0149 loss_train: 3.3740 acc_train: 0.9000 acc_val: 0.8080 acc_test: 0.8320 time: 0.2249s\n"
     ]
    },
    {
     "name": "stderr",
     "output_type": "stream",
     "text": [
      "\r",
      " 75%|███████▌  | 150/200 [00:34<00:11,  4.43it/s]"
     ]
    },
    {
     "name": "stdout",
     "output_type": "stream",
     "text": [
      "Epoch: 0150 loss_train: 2.3448 acc_train: 0.9500 acc_val: 0.8060 acc_test: 0.8340 time: 0.2236s\n"
     ]
    },
    {
     "name": "stderr",
     "output_type": "stream",
     "text": [
      "\r",
      " 76%|███████▌  | 151/200 [00:34<00:11,  4.42it/s]"
     ]
    },
    {
     "name": "stdout",
     "output_type": "stream",
     "text": [
      "Epoch: 0151 loss_train: 2.6280 acc_train: 0.9500 acc_val: 0.8100 acc_test: 0.8330 time: 0.2260s\n"
     ]
    },
    {
     "name": "stderr",
     "output_type": "stream",
     "text": [
      "\r",
      " 76%|███████▌  | 152/200 [00:34<00:10,  4.39it/s]"
     ]
    },
    {
     "name": "stdout",
     "output_type": "stream",
     "text": [
      "Epoch: 0152 loss_train: 2.5927 acc_train: 0.9357 acc_val: 0.8080 acc_test: 0.8310 time: 0.2296s\n"
     ]
    },
    {
     "name": "stderr",
     "output_type": "stream",
     "text": [
      "\r",
      " 76%|███████▋  | 153/200 [00:35<00:10,  4.40it/s]"
     ]
    },
    {
     "name": "stdout",
     "output_type": "stream",
     "text": [
      "Epoch: 0153 loss_train: 2.0750 acc_train: 0.9786 acc_val: 0.8040 acc_test: 0.8330 time: 0.2251s\n"
     ]
    },
    {
     "name": "stderr",
     "output_type": "stream",
     "text": [
      "\r",
      " 77%|███████▋  | 154/200 [00:35<00:10,  4.38it/s]"
     ]
    },
    {
     "name": "stdout",
     "output_type": "stream",
     "text": [
      "Epoch: 0154 loss_train: 2.5829 acc_train: 0.9357 acc_val: 0.8020 acc_test: 0.8260 time: 0.2292s\n"
     ]
    },
    {
     "name": "stderr",
     "output_type": "stream",
     "text": [
      "\r",
      " 78%|███████▊  | 155/200 [00:35<00:10,  4.40it/s]"
     ]
    },
    {
     "name": "stdout",
     "output_type": "stream",
     "text": [
      "Epoch: 0155 loss_train: 3.2156 acc_train: 0.9143 acc_val: 0.8000 acc_test: 0.8250 time: 0.2240s\n"
     ]
    },
    {
     "name": "stderr",
     "output_type": "stream",
     "text": [
      "\r",
      " 78%|███████▊  | 156/200 [00:35<00:09,  4.41it/s]"
     ]
    },
    {
     "name": "stdout",
     "output_type": "stream",
     "text": [
      "Epoch: 0156 loss_train: 2.9620 acc_train: 0.9286 acc_val: 0.8000 acc_test: 0.8200 time: 0.2236s\n"
     ]
    },
    {
     "name": "stderr",
     "output_type": "stream",
     "text": [
      "\r",
      " 78%|███████▊  | 157/200 [00:35<00:09,  4.43it/s]"
     ]
    },
    {
     "name": "stdout",
     "output_type": "stream",
     "text": [
      "Epoch: 0157 loss_train: 2.5310 acc_train: 0.9357 acc_val: 0.7960 acc_test: 0.8180 time: 0.2219s\n"
     ]
    },
    {
     "name": "stderr",
     "output_type": "stream",
     "text": [
      "\r",
      " 79%|███████▉  | 158/200 [00:36<00:09,  4.45it/s]"
     ]
    },
    {
     "name": "stdout",
     "output_type": "stream",
     "text": [
      "Epoch: 0158 loss_train: 2.4441 acc_train: 0.9571 acc_val: 0.7960 acc_test: 0.8170 time: 0.2226s\n"
     ]
    },
    {
     "name": "stderr",
     "output_type": "stream",
     "text": [
      "\r",
      " 80%|███████▉  | 159/200 [00:36<00:09,  4.41it/s]"
     ]
    },
    {
     "name": "stdout",
     "output_type": "stream",
     "text": [
      "Epoch: 0159 loss_train: 2.7095 acc_train: 0.9571 acc_val: 0.7960 acc_test: 0.8200 time: 0.2304s\n"
     ]
    },
    {
     "name": "stderr",
     "output_type": "stream",
     "text": [
      "\r",
      " 80%|████████  | 160/200 [00:36<00:09,  4.42it/s]"
     ]
    },
    {
     "name": "stdout",
     "output_type": "stream",
     "text": [
      "Epoch: 0160 loss_train: 2.5007 acc_train: 0.9357 acc_val: 0.8020 acc_test: 0.8190 time: 0.2232s\n"
     ]
    },
    {
     "name": "stderr",
     "output_type": "stream",
     "text": [
      "\r",
      " 80%|████████  | 161/200 [00:36<00:08,  4.43it/s]"
     ]
    },
    {
     "name": "stdout",
     "output_type": "stream",
     "text": [
      "Epoch: 0161 loss_train: 2.1394 acc_train: 0.9786 acc_val: 0.8020 acc_test: 0.8170 time: 0.2236s\n"
     ]
    },
    {
     "name": "stderr",
     "output_type": "stream",
     "text": [
      "\r",
      " 81%|████████  | 162/200 [00:37<00:08,  4.41it/s]"
     ]
    },
    {
     "name": "stdout",
     "output_type": "stream",
     "text": [
      "Epoch: 0162 loss_train: 2.3993 acc_train: 0.9571 acc_val: 0.7960 acc_test: 0.8150 time: 0.2276s\n"
     ]
    },
    {
     "name": "stderr",
     "output_type": "stream",
     "text": [
      "\r",
      " 82%|████████▏ | 163/200 [00:37<00:08,  4.36it/s]"
     ]
    },
    {
     "name": "stdout",
     "output_type": "stream",
     "text": [
      "Epoch: 0163 loss_train: 2.3098 acc_train: 0.9500 acc_val: 0.7940 acc_test: 0.8180 time: 0.2350s\n"
     ]
    },
    {
     "name": "stderr",
     "output_type": "stream",
     "text": [
      "\r",
      " 82%|████████▏ | 164/200 [00:37<00:08,  4.37it/s]"
     ]
    },
    {
     "name": "stdout",
     "output_type": "stream",
     "text": [
      "Epoch: 0164 loss_train: 2.1075 acc_train: 0.9643 acc_val: 0.7940 acc_test: 0.8190 time: 0.2268s\n"
     ]
    },
    {
     "name": "stderr",
     "output_type": "stream",
     "text": [
      "\r",
      " 82%|████████▎ | 165/200 [00:37<00:08,  4.35it/s]"
     ]
    },
    {
     "name": "stdout",
     "output_type": "stream",
     "text": [
      "Epoch: 0165 loss_train: 2.3582 acc_train: 0.9714 acc_val: 0.7980 acc_test: 0.8220 time: 0.2305s\n"
     ]
    },
    {
     "name": "stderr",
     "output_type": "stream",
     "text": [
      "\r",
      " 83%|████████▎ | 166/200 [00:37<00:07,  4.38it/s]"
     ]
    },
    {
     "name": "stdout",
     "output_type": "stream",
     "text": [
      "Epoch: 0166 loss_train: 2.1785 acc_train: 0.9571 acc_val: 0.8000 acc_test: 0.8240 time: 0.2239s\n"
     ]
    },
    {
     "name": "stderr",
     "output_type": "stream",
     "text": [
      "\r",
      " 84%|████████▎ | 167/200 [00:38<00:07,  4.41it/s]"
     ]
    },
    {
     "name": "stdout",
     "output_type": "stream",
     "text": [
      "Epoch: 0167 loss_train: 2.5210 acc_train: 0.9357 acc_val: 0.8040 acc_test: 0.8280 time: 0.2226s\n"
     ]
    },
    {
     "name": "stderr",
     "output_type": "stream",
     "text": [
      "\r",
      " 84%|████████▍ | 168/200 [00:38<00:07,  4.41it/s]"
     ]
    },
    {
     "name": "stdout",
     "output_type": "stream",
     "text": [
      "Epoch: 0168 loss_train: 3.3240 acc_train: 0.8929 acc_val: 0.8020 acc_test: 0.8320 time: 0.2255s\n"
     ]
    },
    {
     "name": "stderr",
     "output_type": "stream",
     "text": [
      "\r",
      " 84%|████████▍ | 169/200 [00:38<00:07,  4.40it/s]"
     ]
    },
    {
     "name": "stdout",
     "output_type": "stream",
     "text": [
      "Epoch: 0169 loss_train: 3.0481 acc_train: 0.9286 acc_val: 0.8020 acc_test: 0.8330 time: 0.2260s\n"
     ]
    },
    {
     "name": "stderr",
     "output_type": "stream",
     "text": [
      "\r",
      " 85%|████████▌ | 170/200 [00:38<00:06,  4.42it/s]"
     ]
    },
    {
     "name": "stdout",
     "output_type": "stream",
     "text": [
      "Epoch: 0170 loss_train: 2.6370 acc_train: 0.9429 acc_val: 0.8000 acc_test: 0.8300 time: 0.2237s\n"
     ]
    },
    {
     "name": "stderr",
     "output_type": "stream",
     "text": [
      "\r",
      " 86%|████████▌ | 171/200 [00:39<00:06,  4.43it/s]"
     ]
    },
    {
     "name": "stdout",
     "output_type": "stream",
     "text": [
      "Epoch: 0171 loss_train: 2.2062 acc_train: 0.9571 acc_val: 0.8000 acc_test: 0.8300 time: 0.2235s\n"
     ]
    },
    {
     "name": "stderr",
     "output_type": "stream",
     "text": [
      "\r",
      " 86%|████████▌ | 172/200 [00:39<00:06,  4.43it/s]"
     ]
    },
    {
     "name": "stdout",
     "output_type": "stream",
     "text": [
      "Epoch: 0172 loss_train: 2.6291 acc_train: 0.9429 acc_val: 0.8020 acc_test: 0.8280 time: 0.2244s\n"
     ]
    },
    {
     "name": "stderr",
     "output_type": "stream",
     "text": [
      "\r",
      " 86%|████████▋ | 173/200 [00:39<00:06,  4.44it/s]"
     ]
    },
    {
     "name": "stdout",
     "output_type": "stream",
     "text": [
      "Epoch: 0173 loss_train: 2.8162 acc_train: 0.9357 acc_val: 0.8040 acc_test: 0.8290 time: 0.2218s\n"
     ]
    },
    {
     "name": "stderr",
     "output_type": "stream",
     "text": [
      "\r",
      " 87%|████████▋ | 174/200 [00:39<00:05,  4.44it/s]"
     ]
    },
    {
     "name": "stdout",
     "output_type": "stream",
     "text": [
      "Epoch: 0174 loss_train: 2.6008 acc_train: 0.9429 acc_val: 0.8000 acc_test: 0.8230 time: 0.2248s\n"
     ]
    },
    {
     "name": "stderr",
     "output_type": "stream",
     "text": [
      "\r",
      " 88%|████████▊ | 175/200 [00:40<00:05,  4.45it/s]"
     ]
    },
    {
     "name": "stdout",
     "output_type": "stream",
     "text": [
      "Epoch: 0175 loss_train: 2.1362 acc_train: 0.9571 acc_val: 0.7980 acc_test: 0.8210 time: 0.2222s\n"
     ]
    },
    {
     "name": "stderr",
     "output_type": "stream",
     "text": [
      "\r",
      " 88%|████████▊ | 176/200 [00:40<00:05,  4.45it/s]"
     ]
    },
    {
     "name": "stdout",
     "output_type": "stream",
     "text": [
      "Epoch: 0176 loss_train: 2.3329 acc_train: 0.9500 acc_val: 0.7980 acc_test: 0.8200 time: 0.2226s\n"
     ]
    },
    {
     "name": "stderr",
     "output_type": "stream",
     "text": [
      "\r",
      " 88%|████████▊ | 177/200 [00:40<00:05,  4.43it/s]"
     ]
    },
    {
     "name": "stdout",
     "output_type": "stream",
     "text": [
      "Epoch: 0177 loss_train: 2.0415 acc_train: 0.9643 acc_val: 0.8000 acc_test: 0.8230 time: 0.2274s\n"
     ]
    },
    {
     "name": "stderr",
     "output_type": "stream",
     "text": [
      "\r",
      " 89%|████████▉ | 178/200 [00:40<00:04,  4.41it/s]"
     ]
    },
    {
     "name": "stdout",
     "output_type": "stream",
     "text": [
      "Epoch: 0178 loss_train: 2.7671 acc_train: 0.9357 acc_val: 0.8000 acc_test: 0.8210 time: 0.2285s\n"
     ]
    },
    {
     "name": "stderr",
     "output_type": "stream",
     "text": [
      "\r",
      " 90%|████████▉ | 179/200 [00:40<00:04,  4.42it/s]"
     ]
    },
    {
     "name": "stdout",
     "output_type": "stream",
     "text": [
      "Epoch: 0179 loss_train: 2.4522 acc_train: 0.9500 acc_val: 0.8000 acc_test: 0.8220 time: 0.2227s\n"
     ]
    },
    {
     "name": "stderr",
     "output_type": "stream",
     "text": [
      "\r",
      " 90%|█████████ | 180/200 [00:41<00:04,  4.44it/s]"
     ]
    },
    {
     "name": "stdout",
     "output_type": "stream",
     "text": [
      "Epoch: 0180 loss_train: 2.3643 acc_train: 0.9286 acc_val: 0.8040 acc_test: 0.8300 time: 0.2226s\n"
     ]
    },
    {
     "name": "stderr",
     "output_type": "stream",
     "text": [
      "\r",
      " 90%|█████████ | 181/200 [00:41<00:04,  4.42it/s]"
     ]
    },
    {
     "name": "stdout",
     "output_type": "stream",
     "text": [
      "Epoch: 0181 loss_train: 2.3818 acc_train: 0.9286 acc_val: 0.8060 acc_test: 0.8290 time: 0.2263s\n"
     ]
    },
    {
     "name": "stderr",
     "output_type": "stream",
     "text": [
      "\r",
      " 91%|█████████ | 182/200 [00:41<00:04,  4.43it/s]"
     ]
    },
    {
     "name": "stdout",
     "output_type": "stream",
     "text": [
      "Epoch: 0182 loss_train: 3.0115 acc_train: 0.9071 acc_val: 0.8060 acc_test: 0.8290 time: 0.2241s\n"
     ]
    },
    {
     "name": "stderr",
     "output_type": "stream",
     "text": [
      "\r",
      " 92%|█████████▏| 183/200 [00:41<00:03,  4.41it/s]"
     ]
    },
    {
     "name": "stdout",
     "output_type": "stream",
     "text": [
      "Epoch: 0183 loss_train: 2.3400 acc_train: 0.9429 acc_val: 0.8080 acc_test: 0.8320 time: 0.2276s\n"
     ]
    },
    {
     "name": "stderr",
     "output_type": "stream",
     "text": [
      "\r",
      " 92%|█████████▏| 184/200 [00:42<00:03,  4.39it/s]"
     ]
    },
    {
     "name": "stdout",
     "output_type": "stream",
     "text": [
      "Epoch: 0184 loss_train: 2.1433 acc_train: 0.9643 acc_val: 0.8080 acc_test: 0.8340 time: 0.2285s\n"
     ]
    },
    {
     "name": "stderr",
     "output_type": "stream",
     "text": [
      "\r",
      " 92%|█████████▎| 185/200 [00:42<00:03,  4.38it/s]"
     ]
    },
    {
     "name": "stdout",
     "output_type": "stream",
     "text": [
      "Epoch: 0185 loss_train: 2.7107 acc_train: 0.9500 acc_val: 0.8120 acc_test: 0.8330 time: 0.2275s\n"
     ]
    },
    {
     "name": "stderr",
     "output_type": "stream",
     "text": [
      "\r",
      " 93%|█████████▎| 186/200 [00:42<00:03,  4.39it/s]"
     ]
    },
    {
     "name": "stdout",
     "output_type": "stream",
     "text": [
      "Epoch: 0186 loss_train: 2.6998 acc_train: 0.9429 acc_val: 0.8140 acc_test: 0.8340 time: 0.2251s\n"
     ]
    },
    {
     "name": "stderr",
     "output_type": "stream",
     "text": [
      "\r",
      " 94%|█████████▎| 187/200 [00:42<00:02,  4.37it/s]"
     ]
    },
    {
     "name": "stdout",
     "output_type": "stream",
     "text": [
      "Epoch: 0187 loss_train: 2.6236 acc_train: 0.9286 acc_val: 0.8100 acc_test: 0.8330 time: 0.2295s\n"
     ]
    },
    {
     "name": "stderr",
     "output_type": "stream",
     "text": [
      "\r",
      " 94%|█████████▍| 188/200 [00:42<00:02,  4.41it/s]"
     ]
    },
    {
     "name": "stdout",
     "output_type": "stream",
     "text": [
      "Epoch: 0188 loss_train: 2.4304 acc_train: 0.9357 acc_val: 0.8060 acc_test: 0.8290 time: 0.2219s\n"
     ]
    },
    {
     "name": "stderr",
     "output_type": "stream",
     "text": [
      "\r",
      " 94%|█████████▍| 189/200 [00:43<00:02,  4.43it/s]"
     ]
    },
    {
     "name": "stdout",
     "output_type": "stream",
     "text": [
      "Epoch: 0189 loss_train: 2.6210 acc_train: 0.9429 acc_val: 0.8020 acc_test: 0.8220 time: 0.2226s\n"
     ]
    },
    {
     "name": "stderr",
     "output_type": "stream",
     "text": [
      "\r",
      " 95%|█████████▌| 190/200 [00:43<00:02,  4.45it/s]"
     ]
    },
    {
     "name": "stdout",
     "output_type": "stream",
     "text": [
      "Epoch: 0190 loss_train: 2.5871 acc_train: 0.9357 acc_val: 0.8040 acc_test: 0.8230 time: 0.2217s\n"
     ]
    },
    {
     "name": "stderr",
     "output_type": "stream",
     "text": [
      "\r",
      " 96%|█████████▌| 191/200 [00:43<00:02,  4.44it/s]"
     ]
    },
    {
     "name": "stdout",
     "output_type": "stream",
     "text": [
      "Epoch: 0191 loss_train: 2.9233 acc_train: 0.9214 acc_val: 0.8040 acc_test: 0.8240 time: 0.2239s\n"
     ]
    },
    {
     "name": "stderr",
     "output_type": "stream",
     "text": [
      "\r",
      " 96%|█████████▌| 192/200 [00:43<00:01,  4.43it/s]"
     ]
    },
    {
     "name": "stdout",
     "output_type": "stream",
     "text": [
      "Epoch: 0192 loss_train: 2.5614 acc_train: 0.9286 acc_val: 0.8000 acc_test: 0.8200 time: 0.2254s\n"
     ]
    },
    {
     "name": "stderr",
     "output_type": "stream",
     "text": [
      "\r",
      " 96%|█████████▋| 193/200 [00:44<00:01,  4.40it/s]"
     ]
    },
    {
     "name": "stdout",
     "output_type": "stream",
     "text": [
      "Epoch: 0193 loss_train: 2.4445 acc_train: 0.9357 acc_val: 0.7960 acc_test: 0.8190 time: 0.2302s\n"
     ]
    },
    {
     "name": "stderr",
     "output_type": "stream",
     "text": [
      "\r",
      " 97%|█████████▋| 194/200 [00:44<00:01,  4.38it/s]"
     ]
    },
    {
     "name": "stdout",
     "output_type": "stream",
     "text": [
      "Epoch: 0194 loss_train: 2.3119 acc_train: 0.9571 acc_val: 0.7940 acc_test: 0.8160 time: 0.2293s\n"
     ]
    },
    {
     "name": "stderr",
     "output_type": "stream",
     "text": [
      "\r",
      " 98%|█████████▊| 195/200 [00:44<00:01,  4.40it/s]"
     ]
    },
    {
     "name": "stdout",
     "output_type": "stream",
     "text": [
      "Epoch: 0195 loss_train: 2.1682 acc_train: 0.9571 acc_val: 0.7980 acc_test: 0.8130 time: 0.2240s\n"
     ]
    },
    {
     "name": "stderr",
     "output_type": "stream",
     "text": [
      "\r",
      " 98%|█████████▊| 196/200 [00:44<00:00,  4.40it/s]"
     ]
    },
    {
     "name": "stdout",
     "output_type": "stream",
     "text": [
      "Epoch: 0196 loss_train: 2.5252 acc_train: 0.9214 acc_val: 0.7960 acc_test: 0.8120 time: 0.2255s\n"
     ]
    },
    {
     "name": "stderr",
     "output_type": "stream",
     "text": [
      "\r",
      " 98%|█████████▊| 197/200 [00:45<00:00,  4.42it/s]"
     ]
    },
    {
     "name": "stdout",
     "output_type": "stream",
     "text": [
      "Epoch: 0197 loss_train: 2.7778 acc_train: 0.9429 acc_val: 0.8020 acc_test: 0.8130 time: 0.2233s\n"
     ]
    },
    {
     "name": "stderr",
     "output_type": "stream",
     "text": [
      "\r",
      " 99%|█████████▉| 198/200 [00:45<00:00,  4.42it/s]"
     ]
    },
    {
     "name": "stdout",
     "output_type": "stream",
     "text": [
      "Epoch: 0198 loss_train: 2.3755 acc_train: 0.9429 acc_val: 0.8020 acc_test: 0.8140 time: 0.2243s\n"
     ]
    },
    {
     "name": "stderr",
     "output_type": "stream",
     "text": [
      "\r",
      "100%|█████████▉| 199/200 [00:45<00:00,  4.41it/s]"
     ]
    },
    {
     "name": "stdout",
     "output_type": "stream",
     "text": [
      "Epoch: 0199 loss_train: 2.9148 acc_train: 0.9357 acc_val: 0.8020 acc_test: 0.8150 time: 0.2266s\n"
     ]
    },
    {
     "name": "stderr",
     "output_type": "stream",
     "text": [
      "100%|██████████| 200/200 [00:45<00:00,  4.38it/s]"
     ]
    },
    {
     "name": "stdout",
     "output_type": "stream",
     "text": [
      "Epoch: 0200 loss_train: 2.5731 acc_train: 0.9500 acc_val: 0.7980 acc_test: 0.8220 time: 0.2242s\n",
      "Optimization Finished!\n",
      "Total time elapsed: 45.6927s\n",
      "0.8280000000000001 0.843\n",
      "0.8260000000000001 0.842\n",
      "0.8240000000000001 0.843\n",
      "0.8160000000000001 0.838\n",
      "0.8140000000000001 0.834\n",
      "0.812 0.833\n",
      "0.81 0.833\n",
      "0.808 0.834\n",
      "0.806 0.8290000000000001\n",
      "0.804 0.8240000000000001\n"
     ]
    },
    {
     "name": "stderr",
     "output_type": "stream",
     "text": [
      "\n"
     ]
    }
   ],
   "source": [
    "model = ROD_cla(nfeat=features.shape[1], nhid=args.hidden,\n",
    "        nclass=labels.max().item() + 1, dropout=args.dropout, num_hops=args.num_hops).to(device)\n",
    "optimizer = optim.Adam(model.parameters(), lr=args.lr, weight_decay=args.weight_decay)\n",
    "\n",
    "t_total = time.time()\n",
    "record = {}\n",
    "for epoch in tqdm(range(args.epochs)):\n",
    "    t = time.time()\n",
    "    model.train()\n",
    "    optimizer.zero_grad()\n",
    "    z_list= model(feature_list)\n",
    "    \n",
    "    z_ensemble = F.softmax(z_list[0].data, 1)\n",
    "    for i in range(1, args.num_hops+1):\n",
    "        z_ensemble += F.softmax(z_list[i].data, 1)\n",
    "    z_ensemble /= args.num_hops + 1\n",
    "    \n",
    "    loss1 = 0.\n",
    "    for i in range(args.num_hops+1):\n",
    "        loss1 += F.cross_entropy(z_list[i][idx_train], labels[idx_train], reduction='mean')\n",
    "    \n",
    "    loss2 = 0.\n",
    "    for i in range(args.num_hops+1):\n",
    "        loss2 += F.kl_div(F.log_softmax(z_list[i][idx_train], dim=1), z_ensemble[idx_train], reduction='batchmean')\n",
    "    \n",
    "    start, end = 0, batch_size\n",
    "    loss3 = 0.\n",
    "    ran_head = np.random.randint(0, length_neg-length-1)\n",
    "    sampled_neg_list = []\n",
    "    for i in range(args.num_hops+1):\n",
    "        sampled_neg_list.append(torch.LongTensor(neg_inds_list[i][np.arange(ran_head, ran_head+length)]).to(device))\n",
    "    \n",
    "    while end <= length:\n",
    "        for i in range(args.num_hops+1):\n",
    "            sampled_inds = torch.cat((pos_inds_cuda_list[i][start:end], sampled_neg_list[i][start:end]), 0)\n",
    "            xind = sampled_inds // n_nodes\n",
    "            yind = sampled_inds % n_nodes\n",
    "            zx = torch.index_select(z_list[i], 0, xind)\n",
    "            zy = torch.index_select(z_list[i], 0, yind)\n",
    "            batch_label = torch.cat((torch.ones(end-start), torch.zeros(end-start)), 0).to(device)\n",
    "            batch_pred = (F.normalize(zx) * F.normalize(zy)).sum(1)\n",
    "            weight = torch.cat((batch_pred[:batch_size], 1-batch_pred[batch_size:]), 0).data\n",
    "            loss3 += loss_function(adj_preds=batch_pred, adj_labels=batch_label, weight=weight)\n",
    "\n",
    "        start = end\n",
    "        if end < length <= end + batch_size:\n",
    "            end += length - end\n",
    "        else:\n",
    "            end += batch_size\n",
    "\n",
    "    loss_train = loss1 + 0.01*loss2 + 0.001*loss3\n",
    "    acc_train = accuracy(z_ensemble[idx_train], labels[idx_train])\n",
    "    loss_train.backward()\n",
    "    optimizer.step()\n",
    "                          \n",
    "    model.eval()\n",
    "    z_list = model(feature_list)\n",
    "    z_ensemble = z_list[0]\n",
    "    for i in range(1, args.num_hops+1):\n",
    "        z_ensemble += z_list[i]\n",
    "    z_ensemble /= args.num_hops + 1\n",
    "\n",
    "    acc_val = accuracy(z_ensemble[idx_val], labels[idx_val])\n",
    "    acc_test = accuracy(z_ensemble[idx_test], labels[idx_test])\n",
    "    print('Epoch: {:04d}'.format(epoch+1),\n",
    "          'loss_train: {:.4f}'.format(loss_train.item()),\n",
    "          'acc_train: {:.4f}'.format(acc_train.item()),\n",
    "          'acc_val: {:.4f}'.format(acc_val.item()),\n",
    "          'acc_test: {:.4f}'.format(acc_test.item()),\n",
    "          'time: {:.4f}s'.format(time.time() - t))\n",
    "    record[acc_val.item()] = acc_test.item()\n",
    "        \n",
    "print(\"Optimization Finished!\")\n",
    "print(\"Total time elapsed: {:.4f}s\".format(time.time() - t_total))\n",
    "bit_list = sorted(record.keys())\n",
    "bit_list.reverse()\n",
    "for key in bit_list[:10]:\n",
    "    value = record[key]\n",
    "    print(key,value)"
   ]
  },
  {
   "cell_type": "code",
   "execution_count": null,
   "metadata": {},
   "outputs": [],
   "source": []
  }
 ],
 "metadata": {
  "kernelspec": {
   "display_name": "Python 3",
   "language": "python",
   "name": "python3"
  },
  "language_info": {
   "codemirror_mode": {
    "name": "ipython",
    "version": 3
   },
   "file_extension": ".py",
   "mimetype": "text/x-python",
   "name": "python",
   "nbconvert_exporter": "python",
   "pygments_lexer": "ipython3",
   "version": "3.8.5"
  }
 },
 "nbformat": 4,
 "nbformat_minor": 2
}
