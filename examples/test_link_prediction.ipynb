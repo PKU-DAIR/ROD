{
 "cells": [
  {
   "cell_type": "code",
   "execution_count": 1,
   "source": [
    "from __future__ import division\r\n",
    "from __future__ import print_function\r\n",
    "import os, sys\r\n",
    "import warnings\r\n",
    "warnings.simplefilter(action='ignore', category=FutureWarning)\r\n",
    "warnings.simplefilter(action='ignore', category=RuntimeWarning)\r\n",
    "warnings.simplefilter(action='ignore', category=UserWarning)\r\n",
    "\r\n",
    "import argparse\r\n",
    "import time\r\n",
    "import random\r\n",
    "import numpy as np\r\n",
    "import scipy.sparse as sp\r\n",
    "import torch\r\n",
    "\r\n",
    "SEED = 4\r\n",
    "np.random.seed(SEED)\r\n",
    "torch.manual_seed(SEED)\r\n",
    "torch.cuda.manual_seed(SEED)\r\n",
    "\r\n",
    "from torch import optim\r\n",
    "import torch.nn.functional as F\r\n",
    "from model import ROD_lp\r\n",
    "from optimizer import loss_function\r\n",
    "from utils import *\r\n",
    "from tqdm import tqdm\r\n",
    "from sklearn.preprocessing import normalize, MinMaxScaler\r\n",
    "from sklearn import metrics\r\n",
    "import copy"
   ],
   "outputs": [],
   "metadata": {}
  },
  {
   "cell_type": "code",
   "execution_count": 2,
   "source": [
    "parser = argparse.ArgumentParser()\r\n",
    "parser.add_argument('--num_hops', type=int, default=5)\r\n",
    "parser.add_argument('--epochs', type=int, default=400)\r\n",
    "parser.add_argument('--dims', type=int, default=[1024])\r\n",
    "parser.add_argument('--lr', type=float, default=0.001)\r\n",
    "parser.add_argument('--batch_size', type=int, default=500)\r\n",
    "parser.add_argument('--dataset', type=str, default='cora')\r\n",
    "parser.add_argument('--device', type=int, default=0)\r\n",
    "parser.add_argument('--upd', type=int, default=10)\r\n",
    "args = parser.parse_args(args=[])\r\n",
    "print(\"Using {} dataset\".format(args.dataset))"
   ],
   "outputs": [
    {
     "output_type": "stream",
     "name": "stdout",
     "text": [
      "Using cora dataset\n"
     ]
    }
   ],
   "metadata": {}
  },
  {
   "cell_type": "markdown",
   "source": [
    "### 1. Data Fetching"
   ],
   "metadata": {}
  },
  {
   "cell_type": "code",
   "execution_count": 3,
   "source": [
    "device = torch.device(f\"cuda:{args.device}\" if torch.cuda.is_available() else \"cpu\")\r\n",
    "adj, features, true_labels, idx_train, idx_val, idx_test = load_data(args.dataset)\r\n",
    "n_nodes, feat_dim = features.shape\r\n",
    "dims = [feat_dim] + args.dims\r\n",
    "\r\n",
    "adj = adj - sp.dia_matrix((adj.diagonal()[np.newaxis, :], [0]), shape=adj.shape)\r\n",
    "adj.eliminate_zeros()\r\n",
    "adj_orig = adj\r\n",
    "\r\n",
    "adj_train, train_edges, val_edges, val_edges_false, test_edges, test_edges_false = mask_test_edges(adj)\r\n",
    "adj = adj_train\r\n",
    "n = adj.shape[0]\r\n",
    "\r\n",
    "adj_normalized = preprocess_graph(adj, norm='sym', renorm=True)\r\n",
    "features = sp.csr_matrix(features).toarray()\r\n",
    "    \r\n",
    "feature_list = [features]\r\n",
    "for i in range(args.num_hops):\r\n",
    "    feature_list.append(adj_normalized.dot(feature_list[-1]))\r\n",
    "input_feature = [torch.FloatTensor(feat).to(device) for feat in feature_list] \r\n",
    "\r\n",
    "adj_1st = (adj + sp.eye(n)).toarray()\r\n",
    "\r\n",
    "adj_label = torch.FloatTensor(adj_1st)\r\n",
    "\r\n",
    "neg_num = pos_num = adj_label.sum().long()\r\n",
    "\r\n",
    "model = ROD_lp(dims, args.num_hops)\r\n",
    "\r\n",
    "optimizer = optim.Adam(model.parameters(), lr=args.lr)"
   ],
   "outputs": [],
   "metadata": {}
  },
  {
   "cell_type": "markdown",
   "source": [
    "### 2. Data Preprocessing"
   ],
   "metadata": {}
  },
  {
   "cell_type": "code",
   "execution_count": 4,
   "source": [
    "sm_sim_mx_list = []\r\n",
    "for i in range(args.num_hops+1):\r\n",
    "    cur_feat = F.normalize(input_feature[i].cpu().data)\r\n",
    "    sm_sim_mx_list.append(torch.mm(cur_feat, cur_feat.t()).reshape([-1,]))\r\n",
    "\r\n",
    "adj_label = adj_label.reshape([-1, ])\r\n",
    "\r\n",
    "model = model.to(device)\r\n",
    "adj_label = adj_label.to(device)\r\n",
    "\r\n",
    "pos_inds_list = []\r\n",
    "neg_inds_list = []\r\n",
    "for i in range(args.num_hops+1):\r\n",
    "    pos_inds_list.append(np.argpartition(-sm_sim_mx_list[i], pos_num)[:pos_num])\r\n",
    "    neg_inds_list.append(np.argpartition(sm_sim_mx_list[i], pos_num*200)[:pos_num*200])\r\n",
    "\r\n",
    "pos_inds_ensemble = np.concatenate(pos_inds_list, axis=0)\r\n",
    "neg_inds_ensemble = np.concatenate(neg_inds_list, axis=0)\r\n",
    "    \r\n",
    "length_ensemble = len(pos_inds_ensemble)\r\n",
    "length_ensemble_neg = len(neg_inds_ensemble)\r\n",
    "    \r\n",
    "length = len(pos_inds_list[0])\r\n",
    "length_neg = len(neg_inds_list[0])\r\n",
    "\r\n",
    "pos_inds_ensemble_cuda = torch.LongTensor(pos_inds_ensemble).to(device)\r\n",
    "pos_inds_cuda_list = [torch.LongTensor(pos_inds).to(device) for pos_inds in pos_inds_list]\r\n",
    "\r\n",
    "batch_size = args.batch_size"
   ],
   "outputs": [],
   "metadata": {}
  },
  {
   "cell_type": "markdown",
   "source": [
    "### 3. Link Prediction"
   ],
   "metadata": {}
  },
  {
   "cell_type": "code",
   "execution_count": 5,
   "source": [
    "best_lp = 0.\r\n",
    "best_emb_list = []\r\n",
    "tqdm.write('Start Training...')\r\n",
    "for epoch in tqdm(range(args.epochs)):\r\n",
    "    model.train()\r\n",
    "    optimizer.zero_grad()\r\n",
    "\r\n",
    "    all_time_per_epoch = 0.\r\n",
    "    t = time.time()\r\n",
    "    z_list = model(input_feature)\r\n",
    "\r\n",
    "    start, end = 0, batch_size\r\n",
    "    start_ensemble, end_ensemble = 0, batch_size*args.num_hops\r\n",
    "    batch_num = 0\r\n",
    "    loss = 0.\r\n",
    "\r\n",
    "    ran_head = np.random.randint(0, length_neg - length - 1)\r\n",
    "    sampled_neg_list = []\r\n",
    "    for i in range(args.num_hops+1):\r\n",
    "        sampled_neg_list.append(torch.LongTensor(neg_inds_list[i][np.arange(ran_head, ran_head+length)]).to(device))\r\n",
    "   \r\n",
    "    ran_head_0 = np.random.randint(0, length_ensemble_neg - length_ensemble - 1)\r\n",
    "    sample_neg_ensemble = torch.LongTensor(neg_inds_ensemble[np.arange(ran_head_0, ran_head_0+length_ensemble)]).cuda()\r\n",
    "\r\n",
    "    while end_ensemble <= length_ensemble:\r\n",
    "        sample_ensemble_inds = torch.cat((pos_inds_ensemble_cuda[start_ensemble:end_ensemble], sample_neg_ensemble[start_ensemble:end_ensemble]), 0)\r\n",
    "        sample_ensemble_inds = sample_ensemble_inds.cuda()\r\n",
    "        xind = sample_ensemble_inds // n_nodes\r\n",
    "        yind = sample_ensemble_inds % n_nodes\r\n",
    "        batch_label_original = torch.index_select(adj_label, 0, sample_ensemble_inds)\r\n",
    "\r\n",
    "        batch_pred_ensemble_list = []\r\n",
    "        for i in range(args.num_hops+1):\r\n",
    "            sampled_inds = torch.cat((pos_inds_cuda_list[i][start:end], sampled_neg_list[i][start:end]), 0).to(device)\r\n",
    "            xind = sampled_inds // n_nodes\r\n",
    "            yind = sampled_inds % n_nodes\r\n",
    "            zx_ensemble = torch.index_select(z_list[i], 0, xind)\r\n",
    "            zy_ensemble = torch.index_select(z_list[i], 0, yind)\r\n",
    "            zx = torch.index_select(z_list[i], 0, xind)\r\n",
    "            zy = torch.index_select(z_list[i], 0, yind)\r\n",
    "            batch_label = torch.cat((torch.ones(end-start), torch.zeros(end-start))).to(device)\r\n",
    "            batch_label_original = torch.index_select(adj_label, 0, sampled_inds)\r\n",
    "            batch_pred = (zx * zy).sum(1)\r\n",
    "            batch_pred_ensemble = (zx_ensemble * zy_ensemble).sum(1)\r\n",
    "            batch_pred_ensemble_list.append(batch_pred_ensemble)\r\n",
    "            weight = torch.cat((batch_pred[:batch_size], 1-batch_pred[batch_size:]), 0).data\r\n",
    "            loss += loss_function(adj_preds=batch_pred, adj_labels=batch_label_original)\r\n",
    "            sm_sim_mx = sm_sim_mx_list[i].to(device)\r\n",
    "            batch_label_soft = torch.index_select(sm_sim_mx, 0, sampled_inds)\r\n",
    "            loss += 0.2*loss_function(adj_preds=batch_pred, adj_labels=batch_label, weight=weight)\r\n",
    "            loss += 0.2*F.mse_loss(batch_pred, batch_label_soft)\r\n",
    "        \r\n",
    "        attention_scores = [torch.sigmoid(model.lr_att2(batch_pred.view(-1,1))).view(batch_pred.shape[0], 1) for batch_pred in batch_pred_ensemble_list]\r\n",
    "        W = torch.cat(attention_scores, dim=1)\r\n",
    "        W = F.softmax(W, 1)\r\n",
    "\r\n",
    "        pred_ensemble = torch.mul(batch_pred_ensemble_list[0], W[:, 0])\r\n",
    "        for i in range(1, args.num_hops+1):\r\n",
    "            pred_ensemble += torch.mul(batch_pred_ensemble_list[i], W[:, i])\r\n",
    "\r\n",
    "        #teacher loss\r\n",
    "        for i in range(args.num_hops+1):\r\n",
    "            loss += 0.1*F.kl_div(F.log_softmax(batch_pred_ensemble_list[i], dim=-1), F.softmax(pred_ensemble, dim=-1), reduction='mean')\r\n",
    "            loss += 0.1*loss_function(adj_preds=batch_pred_ensemble_list[i], adj_labels=pred_ensemble)\r\n",
    "            loss += loss_function(adj_preds=batch_pred_ensemble_list[i], adj_labels=batch_label_original)\r\n",
    "     \r\n",
    "        start_ensemble = end_ensemble\r\n",
    "        start = end\r\n",
    "        if end_ensemble < length_ensemble <= end_ensemble + (args.num_hops+1)*batch_size:\r\n",
    "            break\r\n",
    "        else:\r\n",
    "            end += batch_size\r\n",
    "            end_ensemble += (args.num_hops+1)*batch_size\r\n",
    "        \r\n",
    "    loss.backward()\r\n",
    "    cur_loss = loss.item()\r\n",
    "    optimizer.step()\r\n",
    "\r\n",
    "    if (epoch + 1) % args.upd == 0:\r\n",
    "        model.eval()\r\n",
    "        z_list = model(input_feature)\r\n",
    "        z_list = [zz.cpu().data.numpy() for zz in z_list]\r\n",
    "    \r\n",
    "        val_auc, val_ap = get_roc_score_ensemble(z_list, adj_orig, val_edges, val_edges_false)\r\n",
    "        if val_auc + val_ap >= best_lp:\r\n",
    "            best_lp = val_auc + val_ap\r\n",
    "            best_emb_list = [z_list[0]]\r\n",
    "            for i in range(1, len(z_list)):\r\n",
    "                best_emb_list.append(z_list[i])\r\n",
    "        tqdm.write(\"Epoch: {}, train_loss_gae={:.5f}, time={:.5f}\".format(\r\n",
    "            epoch + 1, cur_loss, time.time() - t))\r\n",
    "\r\n",
    "tqdm.write(\"Optimization Finished!\")\r\n",
    "auc_score, ap_score = get_roc_score_ensemble(best_emb_list, adj_orig, test_edges, test_edges_false)\r\n",
    "tqdm.write('Test AUC score: ' + str(auc_score))\r\n",
    "tqdm.write('Test AP score: ' + str(ap_score))"
   ],
   "outputs": [
    {
     "output_type": "stream",
     "name": "stderr",
     "text": [
      "\r\n",
      "  0%|          | 0/400 [00:00<?, ?it/s]"
     ]
    },
    {
     "output_type": "stream",
     "name": "stdout",
     "text": [
      "Start Training...\n"
     ]
    },
    {
     "output_type": "stream",
     "name": "stderr",
     "text": [
      "  2%|▎         | 10/400 [00:05<03:52,  1.68it/s]"
     ]
    },
    {
     "output_type": "stream",
     "name": "stdout",
     "text": [
      "Epoch: 10, train_loss_gae=282.18314, time=0.92969\n"
     ]
    },
    {
     "output_type": "stream",
     "name": "stderr",
     "text": [
      "  5%|▌         | 20/400 [00:10<04:16,  1.48it/s]"
     ]
    },
    {
     "output_type": "stream",
     "name": "stdout",
     "text": [
      "Epoch: 20, train_loss_gae=274.31812, time=1.10809\n"
     ]
    },
    {
     "output_type": "stream",
     "name": "stderr",
     "text": [
      "  8%|▊         | 30/400 [00:15<03:51,  1.60it/s]"
     ]
    },
    {
     "output_type": "stream",
     "name": "stdout",
     "text": [
      "Epoch: 30, train_loss_gae=267.98447, time=0.98193\n"
     ]
    },
    {
     "output_type": "stream",
     "name": "stderr",
     "text": [
      " 10%|█         | 40/400 [00:20<03:57,  1.52it/s]"
     ]
    },
    {
     "output_type": "stream",
     "name": "stdout",
     "text": [
      "Epoch: 40, train_loss_gae=262.95465, time=1.07796\n"
     ]
    },
    {
     "output_type": "stream",
     "name": "stderr",
     "text": [
      " 12%|█▎        | 50/400 [00:26<03:35,  1.63it/s]"
     ]
    },
    {
     "output_type": "stream",
     "name": "stdout",
     "text": [
      "Epoch: 50, train_loss_gae=260.54636, time=0.95535\n"
     ]
    },
    {
     "output_type": "stream",
     "name": "stderr",
     "text": [
      " 15%|█▌        | 60/400 [00:31<03:32,  1.60it/s]"
     ]
    },
    {
     "output_type": "stream",
     "name": "stdout",
     "text": [
      "Epoch: 60, train_loss_gae=256.96902, time=0.97111\n"
     ]
    },
    {
     "output_type": "stream",
     "name": "stderr",
     "text": [
      " 18%|█▊        | 70/400 [00:36<03:37,  1.52it/s]"
     ]
    },
    {
     "output_type": "stream",
     "name": "stdout",
     "text": [
      "Epoch: 70, train_loss_gae=255.19661, time=1.08256\n"
     ]
    },
    {
     "output_type": "stream",
     "name": "stderr",
     "text": [
      " 20%|██        | 80/400 [00:41<03:24,  1.57it/s]"
     ]
    },
    {
     "output_type": "stream",
     "name": "stdout",
     "text": [
      "Epoch: 80, train_loss_gae=252.25406, time=1.03497\n"
     ]
    },
    {
     "output_type": "stream",
     "name": "stderr",
     "text": [
      " 22%|██▎       | 90/400 [00:46<03:06,  1.66it/s]"
     ]
    },
    {
     "output_type": "stream",
     "name": "stdout",
     "text": [
      "Epoch: 90, train_loss_gae=251.05368, time=0.92694\n"
     ]
    },
    {
     "output_type": "stream",
     "name": "stderr",
     "text": [
      " 25%|██▌       | 100/400 [00:51<02:54,  1.72it/s]"
     ]
    },
    {
     "output_type": "stream",
     "name": "stdout",
     "text": [
      "Epoch: 100, train_loss_gae=248.65565, time=0.89220\n"
     ]
    },
    {
     "output_type": "stream",
     "name": "stderr",
     "text": [
      " 28%|██▊       | 110/400 [00:56<02:51,  1.69it/s]"
     ]
    },
    {
     "output_type": "stream",
     "name": "stdout",
     "text": [
      "Epoch: 110, train_loss_gae=248.84816, time=0.93304\n"
     ]
    },
    {
     "output_type": "stream",
     "name": "stderr",
     "text": [
      " 30%|███       | 120/400 [01:01<02:47,  1.67it/s]"
     ]
    },
    {
     "output_type": "stream",
     "name": "stdout",
     "text": [
      "Epoch: 120, train_loss_gae=245.43610, time=0.95098\n"
     ]
    },
    {
     "output_type": "stream",
     "name": "stderr",
     "text": [
      " 32%|███▎      | 130/400 [01:06<02:38,  1.71it/s]"
     ]
    },
    {
     "output_type": "stream",
     "name": "stdout",
     "text": [
      "Epoch: 130, train_loss_gae=243.90959, time=0.90385\n"
     ]
    },
    {
     "output_type": "stream",
     "name": "stderr",
     "text": [
      " 35%|███▌      | 140/400 [01:11<02:31,  1.71it/s]"
     ]
    },
    {
     "output_type": "stream",
     "name": "stdout",
     "text": [
      "Epoch: 140, train_loss_gae=242.45346, time=0.90405\n"
     ]
    },
    {
     "output_type": "stream",
     "name": "stderr",
     "text": [
      " 38%|███▊      | 150/400 [01:15<02:25,  1.72it/s]"
     ]
    },
    {
     "output_type": "stream",
     "name": "stdout",
     "text": [
      "Epoch: 150, train_loss_gae=241.46948, time=0.89645\n"
     ]
    },
    {
     "output_type": "stream",
     "name": "stderr",
     "text": [
      " 40%|████      | 160/400 [01:20<02:20,  1.71it/s]"
     ]
    },
    {
     "output_type": "stream",
     "name": "stdout",
     "text": [
      "Epoch: 160, train_loss_gae=241.79732, time=0.92180\n"
     ]
    },
    {
     "output_type": "stream",
     "name": "stderr",
     "text": [
      " 42%|████▎     | 170/400 [01:25<02:27,  1.56it/s]"
     ]
    },
    {
     "output_type": "stream",
     "name": "stdout",
     "text": [
      "Epoch: 170, train_loss_gae=241.08754, time=1.10694\n"
     ]
    },
    {
     "output_type": "stream",
     "name": "stderr",
     "text": [
      " 45%|████▌     | 180/400 [01:30<02:07,  1.73it/s]"
     ]
    },
    {
     "output_type": "stream",
     "name": "stdout",
     "text": [
      "Epoch: 180, train_loss_gae=240.55112, time=0.90286\n"
     ]
    },
    {
     "output_type": "stream",
     "name": "stderr",
     "text": [
      " 48%|████▊     | 190/400 [01:35<02:03,  1.71it/s]"
     ]
    },
    {
     "output_type": "stream",
     "name": "stdout",
     "text": [
      "Epoch: 190, train_loss_gae=238.82446, time=0.91873\n"
     ]
    },
    {
     "output_type": "stream",
     "name": "stderr",
     "text": [
      " 50%|█████     | 200/400 [01:40<01:55,  1.73it/s]"
     ]
    },
    {
     "output_type": "stream",
     "name": "stdout",
     "text": [
      "Epoch: 200, train_loss_gae=237.97897, time=0.90107\n"
     ]
    },
    {
     "output_type": "stream",
     "name": "stderr",
     "text": [
      " 52%|█████▎    | 210/400 [01:44<01:51,  1.71it/s]"
     ]
    },
    {
     "output_type": "stream",
     "name": "stdout",
     "text": [
      "Epoch: 210, train_loss_gae=236.97346, time=0.92358\n"
     ]
    },
    {
     "output_type": "stream",
     "name": "stderr",
     "text": [
      " 55%|█████▌    | 220/400 [01:49<01:44,  1.72it/s]"
     ]
    },
    {
     "output_type": "stream",
     "name": "stdout",
     "text": [
      "Epoch: 220, train_loss_gae=237.07791, time=0.92098\n"
     ]
    },
    {
     "output_type": "stream",
     "name": "stderr",
     "text": [
      " 57%|█████▊    | 230/400 [01:54<01:40,  1.69it/s]"
     ]
    },
    {
     "output_type": "stream",
     "name": "stdout",
     "text": [
      "Epoch: 230, train_loss_gae=236.54646, time=0.93684\n"
     ]
    },
    {
     "output_type": "stream",
     "name": "stderr",
     "text": [
      " 60%|██████    | 240/400 [01:59<01:33,  1.72it/s]"
     ]
    },
    {
     "output_type": "stream",
     "name": "stdout",
     "text": [
      "Epoch: 240, train_loss_gae=238.63480, time=0.90264\n"
     ]
    },
    {
     "output_type": "stream",
     "name": "stderr",
     "text": [
      " 62%|██████▎   | 250/400 [02:04<01:30,  1.67it/s]"
     ]
    },
    {
     "output_type": "stream",
     "name": "stdout",
     "text": [
      "Epoch: 250, train_loss_gae=237.31531, time=0.94227\n"
     ]
    },
    {
     "output_type": "stream",
     "name": "stderr",
     "text": [
      " 65%|██████▌   | 260/400 [02:09<01:26,  1.63it/s]"
     ]
    },
    {
     "output_type": "stream",
     "name": "stdout",
     "text": [
      "Epoch: 260, train_loss_gae=233.23711, time=1.00346\n"
     ]
    },
    {
     "output_type": "stream",
     "name": "stderr",
     "text": [
      " 68%|██████▊   | 270/400 [02:14<01:18,  1.65it/s]"
     ]
    },
    {
     "output_type": "stream",
     "name": "stdout",
     "text": [
      "Epoch: 270, train_loss_gae=233.55034, time=0.97825\n"
     ]
    },
    {
     "output_type": "stream",
     "name": "stderr",
     "text": [
      " 70%|███████   | 280/400 [02:19<01:10,  1.69it/s]"
     ]
    },
    {
     "output_type": "stream",
     "name": "stdout",
     "text": [
      "Epoch: 280, train_loss_gae=233.70340, time=0.93087\n"
     ]
    },
    {
     "output_type": "stream",
     "name": "stderr",
     "text": [
      " 72%|███████▎  | 290/400 [02:24<01:04,  1.71it/s]"
     ]
    },
    {
     "output_type": "stream",
     "name": "stdout",
     "text": [
      "Epoch: 290, train_loss_gae=233.00595, time=0.90710\n"
     ]
    },
    {
     "output_type": "stream",
     "name": "stderr",
     "text": [
      " 75%|███████▌  | 300/400 [02:28<00:59,  1.67it/s]"
     ]
    },
    {
     "output_type": "stream",
     "name": "stdout",
     "text": [
      "Epoch: 300, train_loss_gae=235.20827, time=0.95313\n"
     ]
    },
    {
     "output_type": "stream",
     "name": "stderr",
     "text": [
      " 78%|███████▊  | 310/400 [02:33<00:54,  1.66it/s]"
     ]
    },
    {
     "output_type": "stream",
     "name": "stdout",
     "text": [
      "Epoch: 310, train_loss_gae=232.91017, time=0.96240\n"
     ]
    },
    {
     "output_type": "stream",
     "name": "stderr",
     "text": [
      " 80%|████████  | 320/400 [02:38<00:47,  1.68it/s]"
     ]
    },
    {
     "output_type": "stream",
     "name": "stdout",
     "text": [
      "Epoch: 320, train_loss_gae=231.46730, time=0.94379\n"
     ]
    },
    {
     "output_type": "stream",
     "name": "stderr",
     "text": [
      " 82%|████████▎ | 330/400 [02:43<00:41,  1.68it/s]"
     ]
    },
    {
     "output_type": "stream",
     "name": "stdout",
     "text": [
      "Epoch: 330, train_loss_gae=231.91656, time=0.93897\n"
     ]
    },
    {
     "output_type": "stream",
     "name": "stderr",
     "text": [
      " 85%|████████▌ | 340/400 [02:48<00:35,  1.69it/s]"
     ]
    },
    {
     "output_type": "stream",
     "name": "stdout",
     "text": [
      "Epoch: 340, train_loss_gae=230.14760, time=0.93192\n"
     ]
    },
    {
     "output_type": "stream",
     "name": "stderr",
     "text": [
      " 88%|████████▊ | 350/400 [02:53<00:31,  1.59it/s]"
     ]
    },
    {
     "output_type": "stream",
     "name": "stdout",
     "text": [
      "Epoch: 350, train_loss_gae=230.48987, time=1.05451\n"
     ]
    },
    {
     "output_type": "stream",
     "name": "stderr",
     "text": [
      " 90%|█████████ | 360/400 [02:58<00:24,  1.65it/s]"
     ]
    },
    {
     "output_type": "stream",
     "name": "stdout",
     "text": [
      "Epoch: 360, train_loss_gae=231.71518, time=0.97203\n"
     ]
    },
    {
     "output_type": "stream",
     "name": "stderr",
     "text": [
      " 92%|█████████▎| 370/400 [03:03<00:17,  1.71it/s]"
     ]
    },
    {
     "output_type": "stream",
     "name": "stdout",
     "text": [
      "Epoch: 370, train_loss_gae=231.18553, time=0.90440\n"
     ]
    },
    {
     "output_type": "stream",
     "name": "stderr",
     "text": [
      " 95%|█████████▌| 380/400 [03:08<00:11,  1.70it/s]"
     ]
    },
    {
     "output_type": "stream",
     "name": "stdout",
     "text": [
      "Epoch: 380, train_loss_gae=231.42209, time=0.92595\n"
     ]
    },
    {
     "output_type": "stream",
     "name": "stderr",
     "text": [
      " 98%|█████████▊| 390/400 [03:13<00:05,  1.69it/s]"
     ]
    },
    {
     "output_type": "stream",
     "name": "stdout",
     "text": [
      "Epoch: 390, train_loss_gae=231.00861, time=0.92533\n"
     ]
    },
    {
     "output_type": "stream",
     "name": "stderr",
     "text": [
      "100%|██████████| 400/400 [03:17<00:00,  2.02it/s]\n"
     ]
    },
    {
     "output_type": "stream",
     "name": "stdout",
     "text": [
      "Epoch: 400, train_loss_gae=230.78877, time=0.90777\n",
      "Optimization Finished!\n",
      "Test AUC score: 0.9599717710429951\n",
      "Test AP score: 0.9640584566332792\n"
     ]
    }
   ],
   "metadata": {}
  },
  {
   "cell_type": "code",
   "execution_count": null,
   "source": [],
   "outputs": [],
   "metadata": {}
  }
 ],
 "metadata": {
  "kernelspec": {
   "display_name": "Python 3",
   "language": "python",
   "name": "python3"
  },
  "language_info": {
   "codemirror_mode": {
    "name": "ipython",
    "version": 3
   },
   "file_extension": ".py",
   "mimetype": "text/x-python",
   "name": "python",
   "nbconvert_exporter": "python",
   "pygments_lexer": "ipython3",
   "version": "3.6.5"
  }
 },
 "nbformat": 4,
 "nbformat_minor": 4
}